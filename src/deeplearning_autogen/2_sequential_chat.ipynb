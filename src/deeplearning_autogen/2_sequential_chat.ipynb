{
 "cells": [
  {
   "metadata": {},
   "cell_type": "markdown",
   "source": "## Setup",
   "id": "1e697d8cc759b539"
  },
  {
   "cell_type": "code",
   "id": "initial_id",
   "metadata": {
    "collapsed": true,
    "ExecuteTime": {
     "end_time": "2024-07-31T21:46:47.195452Z",
     "start_time": "2024-07-31T21:46:47.190801Z"
    }
   },
   "source": [
    "from dotenv import load_dotenv\n",
    "from autogen import ConversableAgent\n",
    "\n",
    "load_dotenv()\n",
    "llm_config={\"model\": \"gpt-4o-mini\"}"
   ],
   "outputs": [],
   "execution_count": 3
  },
  {
   "metadata": {
    "ExecuteTime": {
     "end_time": "2024-07-31T21:46:49.050259Z",
     "start_time": "2024-07-31T21:46:48.997208Z"
    }
   },
   "cell_type": "code",
   "source": [
    "onboarding_personal_information_agent = ConversableAgent(\n",
    "    name=\"Onboarding Personal Information Agent\",\n",
    "    system_message='''You are a helpful customer onboarding agent,\n",
    "    you are here to help new customers get started with our product.\n",
    "    Your job is to gather customer's name and location.\n",
    "    Do not ask for other information. Return 'TERMINATE' \n",
    "    when you have gathered all the information.''',\n",
    "    llm_config=llm_config,\n",
    "    code_execution_config=False,\n",
    "    human_input_mode=\"NEVER\",\n",
    ")"
   ],
   "id": "b4f1029f2d9392a1",
   "outputs": [],
   "execution_count": 4
  },
  {
   "metadata": {
    "ExecuteTime": {
     "end_time": "2024-07-31T21:46:58.654944Z",
     "start_time": "2024-07-31T21:46:58.606845Z"
    }
   },
   "cell_type": "code",
   "source": [
    "onboarding_topic_preference_agent = ConversableAgent(\n",
    "    name=\"Onboarding Topic preference Agent\",\n",
    "    system_message='''You are a helpful customer onboarding agent,\n",
    "    you are here to help new customers get started with our product.\n",
    "    Your job is to gather customer's preferences on news topics.\n",
    "    Do not ask for other information.\n",
    "    Return 'TERMINATE' when you have gathered all the information.''',\n",
    "    llm_config=llm_config,\n",
    "    code_execution_config=False,\n",
    "    human_input_mode=\"NEVER\",\n",
    ")"
   ],
   "id": "31be9feb29e58bd0",
   "outputs": [],
   "execution_count": 5
  },
  {
   "metadata": {
    "ExecuteTime": {
     "end_time": "2024-07-31T21:47:09.033770Z",
     "start_time": "2024-07-31T21:47:08.984751Z"
    }
   },
   "cell_type": "code",
   "source": [
    "customer_engagement_agent = ConversableAgent(\n",
    "    name=\"Customer Engagement Agent\",\n",
    "    system_message='''You are a helpful customer service agent\n",
    "    here to provide fun for the customer based on the user's\n",
    "    personal information and topic preferences.\n",
    "    This could include fun facts, jokes, or interesting stories.\n",
    "    Make sure to make it engaging and fun!\n",
    "    Return 'TERMINATE' when you are done.''',\n",
    "    llm_config=llm_config,\n",
    "    code_execution_config=False,\n",
    "    human_input_mode=\"NEVER\",\n",
    "    is_termination_msg=lambda msg: \"terminate\" in msg.get(\"content\").lower(),\n",
    ")"
   ],
   "id": "f175a93405e7427c",
   "outputs": [],
   "execution_count": 6
  },
  {
   "metadata": {
    "ExecuteTime": {
     "end_time": "2024-07-31T21:47:58.998249Z",
     "start_time": "2024-07-31T21:47:58.993880Z"
    }
   },
   "cell_type": "code",
   "source": [
    "customer_proxy_agent = ConversableAgent(\n",
    "    name=\"customer_proxy_agent\",\n",
    "    llm_config=False,\n",
    "    code_execution_config=False,\n",
    "    human_input_mode=\"ALWAYS\",\n",
    "    is_termination_msg=lambda msg: \"terminate\" in msg.get(\"content\").lower(),\n",
    ")"
   ],
   "id": "8c777a6308a276e",
   "outputs": [],
   "execution_count": 7
  },
  {
   "metadata": {},
   "cell_type": "markdown",
   "source": "## Creating tasks",
   "id": "c366a45b9f657aa"
  },
  {
   "metadata": {
    "ExecuteTime": {
     "end_time": "2024-07-31T21:51:06.335374Z",
     "start_time": "2024-07-31T21:51:06.331021Z"
    }
   },
   "cell_type": "code",
   "source": [
    "chats = [\n",
    "    {\n",
    "        \"sender\": onboarding_personal_information_agent,\n",
    "        \"recipient\": customer_proxy_agent,\n",
    "        \"message\": \n",
    "            \"Hello, I'm here to help you get started with our product.\"\n",
    "            \"Could you tell me your name and location?\",\n",
    "        \"summary_method\": \"reflection_with_llm\",\n",
    "        \"summary_args\": {\n",
    "            \"summary_prompt\" : \"Return the customer information \"\n",
    "                             \"into as JSON object only: \"\n",
    "                             \"{'name': '', 'location': ''}\",\n",
    "        },\n",
    "        \"max_turns\": 2,\n",
    "        \"clear_history\" : True\n",
    "    },\n",
    "    {\n",
    "        \"sender\": onboarding_topic_preference_agent,\n",
    "        \"recipient\": customer_proxy_agent,\n",
    "        \"message\": \n",
    "                \"Great! Could you tell me what topics you are \"\n",
    "                \"interested in reading about?\",\n",
    "        \"summary_method\": \"reflection_with_llm\",\n",
    "        \"max_turns\": 1,\n",
    "        \"clear_history\" : False\n",
    "    },\n",
    "    {\n",
    "        \"sender\": customer_proxy_agent,\n",
    "        \"recipient\": customer_engagement_agent,\n",
    "        \"message\": \"Let's find something fun to read.\",\n",
    "        \"max_turns\": 1,\n",
    "        \"summary_method\": \"reflection_with_llm\",\n",
    "    },\n",
    "]"
   ],
   "id": "c5db2519278c66e7",
   "outputs": [],
   "execution_count": 8
  },
  {
   "metadata": {},
   "cell_type": "markdown",
   "source": "## Start the onboarding process",
   "id": "5d1b92b584e5fc4f"
  },
  {
   "metadata": {
    "ExecuteTime": {
     "end_time": "2024-07-31T21:53:05.321379Z",
     "start_time": "2024-07-31T21:51:42.297406Z"
    }
   },
   "cell_type": "code",
   "source": [
    "from autogen import initiate_chats\n",
    "\n",
    "chat_results = initiate_chats(chats)"
   ],
   "id": "5e649bc5c63e44c1",
   "outputs": [
    {
     "name": "stdout",
     "output_type": "stream",
     "text": [
      "\u001B[34m\n",
      "********************************************************************************\u001B[0m\n",
      "\u001B[34mStarting a new chat....\u001B[0m\n",
      "\u001B[34m\n",
      "********************************************************************************\u001B[0m\n",
      "\u001B[33mOnboarding Personal Information Agent\u001B[0m (to customer_proxy_agent):\n",
      "\n",
      "Hello, I'm here to help you get started with our product.Could you tell me your name and location?\n",
      "\n",
      "--------------------------------------------------------------------------------\n"
     ]
    },
    {
     "name": "stderr",
     "output_type": "stream",
     "text": [
      "/Users/danielboza/Documents/Projects/langgraph-experiments/.venv/lib/python3.11/site-packages/autogen/agentchat/chat.py:47: UserWarning: Repetitive recipients detected: The chat history will be cleared by default if a recipient appears more than once. To retain the chat history, please set 'clear_history=False' in the configuration of the repeating agent.\n",
      "  warnings.warn(\n"
     ]
    },
    {
     "name": "stdout",
     "output_type": "stream",
     "text": [
      "\u001B[33mcustomer_proxy_agent\u001B[0m (to Onboarding Personal Information Agent):\n",
      "\n",
      "Daniel from Maracaibo\n",
      "\n",
      "--------------------------------------------------------------------------------\n",
      "\u001B[33mOnboarding Personal Information Agent\u001B[0m (to customer_proxy_agent):\n",
      "\n",
      "Thank you, Daniel from Maracaibo! That’s all the information I need. \n",
      "\n",
      "TERMINATE\n",
      "\n",
      "--------------------------------------------------------------------------------\n",
      "\u001B[31m\n",
      ">>>>>>>> NO HUMAN INPUT RECEIVED.\u001B[0m\n",
      "\u001B[34m\n",
      "********************************************************************************\u001B[0m\n",
      "\u001B[34mStarting a new chat....\u001B[0m\n",
      "\u001B[34m\n",
      "********************************************************************************\u001B[0m\n",
      "\u001B[33mOnboarding Topic preference Agent\u001B[0m (to customer_proxy_agent):\n",
      "\n",
      "Great! Could you tell me what topics you are interested in reading about?\n",
      "Context: \n",
      "```json\n",
      "{'name': 'Daniel', 'location': 'Maracaibo'}\n",
      "```\n",
      "\n",
      "--------------------------------------------------------------------------------\n",
      "\u001B[33mcustomer_proxy_agent\u001B[0m (to Onboarding Topic preference Agent):\n",
      "\n",
      "Horses\n",
      "\n",
      "--------------------------------------------------------------------------------\n",
      "\u001B[34m\n",
      "********************************************************************************\u001B[0m\n",
      "\u001B[34mStarting a new chat....\u001B[0m\n",
      "\u001B[34m\n",
      "********************************************************************************\u001B[0m\n",
      "\u001B[33mcustomer_proxy_agent\u001B[0m (to Customer Engagement Agent):\n",
      "\n",
      "Let's find something fun to read.\n",
      "Context: \n",
      "```json\n",
      "{'name': 'Daniel', 'location': 'Maracaibo'}\n",
      "```\n",
      "Daniel, located in Maracaibo, is interested in reading about horses.\n",
      "\n",
      "--------------------------------------------------------------------------------\n",
      "\u001B[33mCustomer Engagement Agent\u001B[0m (to customer_proxy_agent):\n",
      "\n",
      "Hey Daniel! 🌟 It’s fantastic to hear that you’re interested in horses! Did you know that horses have been companions to humans for thousands of years? Let me share a fun fact and a joke to get you started!\n",
      "\n",
      "**Fun Fact:** Horses can sleep both lying down and standing up! They have a unique locking mechanism in their legs that allows them to stay upright while resting, which is crucial for a prey animal to avoid predators.\n",
      "\n",
      "**Joke Time:** Why did the horse go behind the tree?  \n",
      "Because he wanted to change his jockeys! 🌳🐴 \n",
      "\n",
      "If you’re looking for an interesting story, how about the legend of the “Headless Horseman”? It’s a chilling tale about a ghostly figure who roams the area of Sleepy Hollow, New York, searching for his lost head! Perfect for a spooky read! \n",
      "\n",
      "What do you think? Would you like more facts, stories, or perhaps more jokes about horses? 🐎✨\n",
      "\n",
      "--------------------------------------------------------------------------------\n"
     ]
    }
   ],
   "execution_count": 9
  },
  {
   "metadata": {
    "ExecuteTime": {
     "end_time": "2024-07-31T21:53:36.456037Z",
     "start_time": "2024-07-31T21:53:36.451919Z"
    }
   },
   "cell_type": "code",
   "source": [
    "for chat_result in chat_results:\n",
    "    print(chat_result.summary)\n",
    "    print(\"\\n\")"
   ],
   "id": "8f71a34739fb389a",
   "outputs": [
    {
     "name": "stdout",
     "output_type": "stream",
     "text": [
      "```json\n",
      "{'name': 'Daniel', 'location': 'Maracaibo'}\n",
      "```\n",
      "\n",
      "\n",
      "Daniel, located in Maracaibo, is interested in reading about horses.\n",
      "\n",
      "\n",
      "Daniel is interested in reading about horses. Fun facts shared include their ability to sleep standing up, and a joke about a horse changing its jockeys. A suggestion was made to read the legend of the “Headless Horseman” for an interesting story.\n",
      "\n",
      "\n"
     ]
    }
   ],
   "execution_count": 10
  },
  {
   "metadata": {
    "ExecuteTime": {
     "end_time": "2024-07-31T21:53:53.400750Z",
     "start_time": "2024-07-31T21:53:53.394932Z"
    }
   },
   "cell_type": "code",
   "source": [
    "for chat_result in chat_results:\n",
    "    print(chat_result.cost)\n",
    "    print(\"\\n\")"
   ],
   "id": "4b8d3d8115c544a3",
   "outputs": [
    {
     "name": "stdout",
     "output_type": "stream",
     "text": [
      "{'usage_including_cached_inference': {'total_cost': 5.1149999999999996e-05, 'gpt-4o-mini-2024-07-18': {'cost': 5.1149999999999996e-05, 'prompt_tokens': 185, 'completion_tokens': 39, 'total_tokens': 224}}, 'usage_excluding_cached_inference': {'total_cost': 5.1149999999999996e-05, 'gpt-4o-mini-2024-07-18': {'cost': 5.1149999999999996e-05, 'prompt_tokens': 185, 'completion_tokens': 39, 'total_tokens': 224}}}\n",
      "\n",
      "\n",
      "{'usage_including_cached_inference': {'total_cost': 1.9499999999999996e-05, 'gpt-4o-mini-2024-07-18': {'cost': 1.9499999999999996e-05, 'prompt_tokens': 70, 'completion_tokens': 15, 'total_tokens': 85}}, 'usage_excluding_cached_inference': {'total_cost': 1.9499999999999996e-05, 'gpt-4o-mini-2024-07-18': {'cost': 1.9499999999999996e-05, 'prompt_tokens': 70, 'completion_tokens': 15, 'total_tokens': 85}}}\n",
      "\n",
      "\n",
      "{'usage_including_cached_inference': {'total_cost': 0.00020879999999999998, 'gpt-4o-mini-2024-07-18': {'cost': 0.00020879999999999998, 'prompt_tokens': 392, 'completion_tokens': 250, 'total_tokens': 642}}, 'usage_excluding_cached_inference': {'total_cost': 0.00020879999999999998, 'gpt-4o-mini-2024-07-18': {'cost': 0.00020879999999999998, 'prompt_tokens': 392, 'completion_tokens': 250, 'total_tokens': 642}}}\n",
      "\n",
      "\n"
     ]
    }
   ],
   "execution_count": 11
  },
  {
   "metadata": {},
   "cell_type": "code",
   "outputs": [],
   "execution_count": null,
   "source": "",
   "id": "e22c0029dac47bc9"
  }
 ],
 "metadata": {
  "kernelspec": {
   "display_name": "Python 3",
   "language": "python",
   "name": "python3"
  },
  "language_info": {
   "codemirror_mode": {
    "name": "ipython",
    "version": 2
   },
   "file_extension": ".py",
   "mimetype": "text/x-python",
   "name": "python",
   "nbconvert_exporter": "python",
   "pygments_lexer": "ipython2",
   "version": "2.7.6"
  }
 },
 "nbformat": 4,
 "nbformat_minor": 5
}
