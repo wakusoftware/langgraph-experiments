{
 "cells": [
  {
   "metadata": {},
   "cell_type": "markdown",
   "source": "## Setup",
   "id": "11ab5e61ed335138"
  },
  {
   "cell_type": "code",
   "id": "initial_id",
   "metadata": {
    "collapsed": true,
    "ExecuteTime": {
     "end_time": "2024-07-31T22:28:49.156001Z",
     "start_time": "2024-07-31T22:28:49.151893Z"
    }
   },
   "source": [
    "from dotenv import load_dotenv\n",
    "\n",
    "load_dotenv()\n",
    "llm_config={\"model\": \"gpt-4o-mini\"}"
   ],
   "outputs": [],
   "execution_count": 2
  },
  {
   "metadata": {
    "ExecuteTime": {
     "end_time": "2024-07-31T22:28:59.392696Z",
     "start_time": "2024-07-31T22:28:59.386805Z"
    }
   },
   "cell_type": "code",
   "source": [
    "task = '''\n",
    "        Write a concise but engaging blogpost about\n",
    "       DeepLearning.AI. Make sure the blogpost is\n",
    "       within 100 words.\n",
    "       '''\n"
   ],
   "id": "9de26a122a011164",
   "outputs": [],
   "execution_count": 3
  },
  {
   "metadata": {},
   "cell_type": "markdown",
   "source": "## Writer agent",
   "id": "3c393e06967064e7"
  },
  {
   "metadata": {
    "ExecuteTime": {
     "end_time": "2024-07-31T22:30:21.837903Z",
     "start_time": "2024-07-31T22:30:21.780704Z"
    }
   },
   "cell_type": "code",
   "source": [
    "import autogen\n",
    "\n",
    "writer = autogen.AssistantAgent(\n",
    "    name=\"Writer\",\n",
    "    system_message=\"You are a writer. You write engaging and concise \" \n",
    "        \"blogpost (with title) on given topics. You must polish your \"\n",
    "        \"writing based on the feedback you receive and give a refined \"\n",
    "        \"version. Only return your final work without additional comments.\",\n",
    "    llm_config=llm_config,\n",
    ")"
   ],
   "id": "2527e8651457cf39",
   "outputs": [],
   "execution_count": 4
  },
  {
   "metadata": {
    "ExecuteTime": {
     "end_time": "2024-07-31T22:30:33.485594Z",
     "start_time": "2024-07-31T22:30:29.686097Z"
    }
   },
   "cell_type": "code",
   "source": "reply = writer.generate_reply(messages=[{\"content\": task, \"role\": \"user\"}])",
   "id": "866086297bd714e2",
   "outputs": [],
   "execution_count": 5
  },
  {
   "metadata": {
    "ExecuteTime": {
     "end_time": "2024-07-31T22:30:38.751897Z",
     "start_time": "2024-07-31T22:30:38.748166Z"
    }
   },
   "cell_type": "code",
   "source": "print(reply)",
   "id": "d7023c82446f2b50",
   "outputs": [
    {
     "name": "stdout",
     "output_type": "stream",
     "text": [
      "**Unlocking the Future with DeepLearning.AI**\n",
      "\n",
      "DeepLearning.AI is at the forefront of artificial intelligence education, revolutionizing how we learn about deep learning. Founded by AI visionary Andrew Ng, the platform offers comprehensive courses that cater to both beginners and advanced practitioners. With a hands-on approach and real-world applications, learners gain valuable skills that are highly sought after in today’s data-driven landscape. From foundational concepts to specialized topics, DeepLearning.AI empowers individuals and organizations to harness the potential of AI for innovation. Dive into the world of deep learning today and be part of the technological transformation shaping our future!\n"
     ]
    }
   ],
   "execution_count": 6
  },
  {
   "metadata": {},
   "cell_type": "markdown",
   "source": "## Adding reflection ",
   "id": "54d025547618f2e5"
  },
  {
   "metadata": {
    "ExecuteTime": {
     "end_time": "2024-07-31T22:33:48.421160Z",
     "start_time": "2024-07-31T22:33:48.367472Z"
    }
   },
   "cell_type": "code",
   "source": [
    "critic = autogen.AssistantAgent(\n",
    "    name=\"Critic\",\n",
    "    is_termination_msg=lambda x: x.get(\"content\", \"\").find(\"TERMINATE\") >= 0,\n",
    "    llm_config=llm_config,\n",
    "    system_message=\"You are a critic. You review the work of \"\n",
    "                \"the writer and provide constructive \"\n",
    "                \"feedback to help improve the quality of the content.\",\n",
    ")"
   ],
   "id": "71fa295c712027da",
   "outputs": [],
   "execution_count": 8
  },
  {
   "metadata": {
    "ExecuteTime": {
     "end_time": "2024-07-31T22:33:57.041502Z",
     "start_time": "2024-07-31T22:33:48.423483Z"
    }
   },
   "cell_type": "code",
   "source": [
    "res = critic.initiate_chat(\n",
    "    recipient=writer,\n",
    "    message=task,\n",
    "    max_turns=2,\n",
    "    summary_method=\"last_msg\"\n",
    ")"
   ],
   "id": "d9f9dca9d18ce95b",
   "outputs": [
    {
     "name": "stdout",
     "output_type": "stream",
     "text": [
      "\u001B[33mCritic\u001B[0m (to Writer):\n",
      "\n",
      "\n",
      "        Write a concise but engaging blogpost about\n",
      "       DeepLearning.AI. Make sure the blogpost is\n",
      "       within 100 words.\n",
      "       \n",
      "\n",
      "--------------------------------------------------------------------------------\n",
      "\u001B[33mWriter\u001B[0m (to Critic):\n",
      "\n",
      "**Unlocking the Future with DeepLearning.AI**\n",
      "\n",
      "DeepLearning.AI is at the forefront of artificial intelligence education, revolutionizing how we learn about deep learning. Founded by AI visionary Andrew Ng, the platform offers comprehensive courses that cater to both beginners and advanced practitioners. With a hands-on approach and real-world applications, learners gain valuable skills that are highly sought after in today’s data-driven landscape. From foundational concepts to specialized topics, DeepLearning.AI empowers individuals and organizations to harness the potential of AI for innovation. Dive into the world of deep learning today and be part of the technological transformation shaping our future!\n",
      "\n",
      "--------------------------------------------------------------------------------\n",
      "\u001B[33mCritic\u001B[0m (to Writer):\n",
      "\n",
      "This blog post does a commendable job of capturing the essence of DeepLearning.AI in a concise manner. However, to further enhance its quality and engagement factor, consider the following constructive feedback:\n",
      "\n",
      "1. **Hook and Tone**: While the introductory sentence is enticing, adding a thought-provoking question or bold statement could draw readers in even more effectively. For example, \"Are you ready to master the technology shaping our future?\"\n",
      "\n",
      "2. **Specific Benefits**: Mention specific course offerings or notable features (like hands-on projects or partnerships with industry leaders). This could add more depth and entice readers looking for particular benefits.\n",
      "\n",
      "3. **Call to Action**: Ending with a stronger call to action could encourage engagement, such as \"Explore their latest courses today and step into the AI revolution!\" \n",
      "\n",
      "4. **Visuals**: If this blog post will be published online, consider suggesting visuals or infographics to complement the text. A visual representation of course topics or success stories could enhance reader interest.\n",
      "\n",
      "5. **SEO Optimization**: Incorporate relevant keywords related to AI and deep learning to improve visibility in search engines.\n",
      "\n",
      "Revised Example:\n",
      "**Unlocking the Future with DeepLearning.AI**\n",
      "\n",
      "Are you ready to master the technology shaping our future? DeepLearning.AI is leading the charge in artificial intelligence education, revolutionizing our understanding of deep learning. Founded by AI pioneer Andrew Ng, this platform offers in-depth courses with a hands-on approach, covering everything from basic concepts to specialized applications. With valuable skills highly sought after in today’s job market, DeepLearning.AI empowers learners to harness AI's potential for innovation. Explore their latest courses today and join the AI revolution! \n",
      "\n",
      "This revised version aims to pull the reader in more effectively, clarify the benefits, and maintain a compelling tone.\n",
      "\n",
      "--------------------------------------------------------------------------------\n",
      "\u001B[33mWriter\u001B[0m (to Critic):\n",
      "\n",
      "**Unlocking the Future with DeepLearning.AI**\n",
      "\n",
      "Are you ready to master the technology shaping our future? DeepLearning.AI is leading the charge in artificial intelligence education, transforming our understanding of deep learning. Founded by AI pioneer Andrew Ng, this platform offers comprehensive courses, including hands-on projects and partnerships with industry leaders, catering to everyone from beginners to experts. Gain in-demand skills and apply them to real-world challenges, empowering you to innovate in today’s AI-driven landscape. Don't miss out—explore their latest courses today and step into the AI revolution!\n",
      "\n",
      "--------------------------------------------------------------------------------\n"
     ]
    }
   ],
   "execution_count": 9
  },
  {
   "metadata": {},
   "cell_type": "markdown",
   "source": "## Nested chat",
   "id": "58be413aa118b154"
  },
  {
   "metadata": {
    "ExecuteTime": {
     "end_time": "2024-07-31T22:37:17.155897Z",
     "start_time": "2024-07-31T22:37:17.106120Z"
    }
   },
   "cell_type": "code",
   "source": [
    "SEO_reviewer = autogen.AssistantAgent(\n",
    "    name=\"SEO Reviewer\",\n",
    "    llm_config=llm_config,\n",
    "    system_message=\"You are an SEO reviewer, known for \"\n",
    "        \"your ability to optimize content for search engines, \"\n",
    "        \"ensuring that it ranks well and attracts organic traffic. \" \n",
    "        \"Make sure your suggestion is concise (within 3 bullet points), \"\n",
    "        \"concrete and to the point. \"\n",
    "        \"Begin the review by stating your role.\",\n",
    ")\n"
   ],
   "id": "aa7c4bb438b410bd",
   "outputs": [],
   "execution_count": 10
  },
  {
   "metadata": {
    "ExecuteTime": {
     "end_time": "2024-07-31T22:37:26.885828Z",
     "start_time": "2024-07-31T22:37:26.837662Z"
    }
   },
   "cell_type": "code",
   "source": [
    "legal_reviewer = autogen.AssistantAgent(\n",
    "    name=\"Legal Reviewer\",\n",
    "    llm_config=llm_config,\n",
    "    system_message=\"You are a legal reviewer, known for \"\n",
    "        \"your ability to ensure that content is legally compliant \"\n",
    "        \"and free from any potential legal issues. \"\n",
    "        \"Make sure your suggestion is concise (within 3 bullet points), \"\n",
    "        \"concrete and to the point. \"\n",
    "        \"Begin the review by stating your role.\",\n",
    ")"
   ],
   "id": "11b8be38e1d072d9",
   "outputs": [],
   "execution_count": 11
  },
  {
   "metadata": {
    "ExecuteTime": {
     "end_time": "2024-07-31T22:37:33.513627Z",
     "start_time": "2024-07-31T22:37:33.468755Z"
    }
   },
   "cell_type": "code",
   "source": [
    "ethics_reviewer = autogen.AssistantAgent(\n",
    "    name=\"Ethics Reviewer\",\n",
    "    llm_config=llm_config,\n",
    "    system_message=\"You are an ethics reviewer, known for \"\n",
    "        \"your ability to ensure that content is ethically sound \"\n",
    "        \"and free from any potential ethical issues. \" \n",
    "        \"Make sure your suggestion is concise (within 3 bullet points), \"\n",
    "        \"concrete and to the point. \"\n",
    "        \"Begin the review by stating your role. \",\n",
    ")"
   ],
   "id": "af0d45a071904e04",
   "outputs": [],
   "execution_count": 12
  },
  {
   "metadata": {
    "ExecuteTime": {
     "end_time": "2024-07-31T22:37:39.736697Z",
     "start_time": "2024-07-31T22:37:39.687491Z"
    }
   },
   "cell_type": "code",
   "source": [
    "meta_reviewer = autogen.AssistantAgent(\n",
    "    name=\"Meta Reviewer\",\n",
    "    llm_config=llm_config,\n",
    "    system_message=\"You are a meta reviewer, you aggragate and review \"\n",
    "    \"the work of other reviewers and give a final suggestion on the content.\",\n",
    ")"
   ],
   "id": "872386a23ed82131",
   "outputs": [],
   "execution_count": 13
  },
  {
   "metadata": {
    "ExecuteTime": {
     "end_time": "2024-07-31T22:39:10.099481Z",
     "start_time": "2024-07-31T22:39:10.094686Z"
    }
   },
   "cell_type": "code",
   "source": [
    "def reflection_message(recipient, messages, sender, config):\n",
    "    return f'''Review the following content. \n",
    "            \\n\\n {recipient.chat_messages_for_summary(sender)[-1]['content']}'''\n",
    "\n",
    "review_chats = [\n",
    "    {\n",
    "     \"recipient\": SEO_reviewer, \n",
    "     \"message\": reflection_message, \n",
    "     \"summary_method\": \"reflection_with_llm\",\n",
    "     \"summary_args\": {\"summary_prompt\" : \n",
    "        \"Return review into as JSON object only:\"\n",
    "        \"{'Reviewer': '', 'Review': ''}. Here Reviewer should be your role\",},\n",
    "     \"max_turns\": 1},\n",
    "    {\n",
    "    \"recipient\": legal_reviewer, \"message\": reflection_message, \n",
    "     \"summary_method\": \"reflection_with_llm\",\n",
    "     \"summary_args\": {\"summary_prompt\" : \n",
    "        \"Return review into as JSON object only:\"\n",
    "        \"{'Reviewer': '', 'Review': ''}.\",},\n",
    "     \"max_turns\": 1},\n",
    "    {\"recipient\": ethics_reviewer, \"message\": reflection_message, \n",
    "     \"summary_method\": \"reflection_with_llm\",\n",
    "     \"summary_args\": {\"summary_prompt\" : \n",
    "        \"Return review into as JSON object only:\"\n",
    "        \"{'reviewer': '', 'review': ''}\",},\n",
    "     \"max_turns\": 1},\n",
    "     {\"recipient\": meta_reviewer, \n",
    "      \"message\": \"Aggregrate feedback from all reviewers and give final suggestions on the writing.\", \n",
    "     \"max_turns\": 1},\n",
    "]\n"
   ],
   "id": "156ea65f12ebc5a4",
   "outputs": [],
   "execution_count": 14
  },
  {
   "metadata": {
    "ExecuteTime": {
     "end_time": "2024-07-31T22:39:19.900488Z",
     "start_time": "2024-07-31T22:39:19.898068Z"
    }
   },
   "cell_type": "code",
   "source": [
    "critic.register_nested_chats(\n",
    "    review_chats,\n",
    "    trigger=writer,\n",
    ")"
   ],
   "id": "287895969c058781",
   "outputs": [],
   "execution_count": 15
  },
  {
   "metadata": {
    "ExecuteTime": {
     "end_time": "2024-07-31T22:48:01.878171Z",
     "start_time": "2024-07-31T22:48:01.794898Z"
    }
   },
   "cell_type": "code",
   "source": [
    "res = critic.initiate_chat(\n",
    "    recipient=writer,\n",
    "    message=task,\n",
    "    max_turns=2,\n",
    "    summary_method=\"last_msg\"\n",
    ")"
   ],
   "id": "374260332f395199",
   "outputs": [
    {
     "name": "stdout",
     "output_type": "stream",
     "text": [
      "\u001B[33mCritic\u001B[0m (to Writer):\n",
      "\n",
      "\n",
      "        Write a concise but engaging blogpost about\n",
      "       DeepLearning.AI. Make sure the blogpost is\n",
      "       within 100 words.\n",
      "       \n",
      "\n",
      "--------------------------------------------------------------------------------\n",
      "\u001B[33mWriter\u001B[0m (to Critic):\n",
      "\n",
      "**Unlocking the Future with DeepLearning.AI**\n",
      "\n",
      "DeepLearning.AI is at the forefront of artificial intelligence education, revolutionizing how we learn about deep learning. Founded by AI visionary Andrew Ng, the platform offers comprehensive courses that cater to both beginners and advanced practitioners. With a hands-on approach and real-world applications, learners gain valuable skills that are highly sought after in today’s data-driven landscape. From foundational concepts to specialized topics, DeepLearning.AI empowers individuals and organizations to harness the potential of AI for innovation. Dive into the world of deep learning today and be part of the technological transformation shaping our future!\n",
      "\n",
      "--------------------------------------------------------------------------------\n",
      "\u001B[34m\n",
      "********************************************************************************\u001B[0m\n",
      "\u001B[34mStarting a new chat....\u001B[0m\n",
      "\u001B[34m\n",
      "********************************************************************************\u001B[0m\n",
      "\u001B[33mCritic\u001B[0m (to SEO Reviewer):\n",
      "\n",
      "Review the following content. \n",
      "            \n",
      "\n",
      " **Unlocking the Future with DeepLearning.AI**\n",
      "\n",
      "DeepLearning.AI is at the forefront of artificial intelligence education, revolutionizing how we learn about deep learning. Founded by AI visionary Andrew Ng, the platform offers comprehensive courses that cater to both beginners and advanced practitioners. With a hands-on approach and real-world applications, learners gain valuable skills that are highly sought after in today’s data-driven landscape. From foundational concepts to specialized topics, DeepLearning.AI empowers individuals and organizations to harness the potential of AI for innovation. Dive into the world of deep learning today and be part of the technological transformation shaping our future!\n",
      "\n",
      "--------------------------------------------------------------------------------\n",
      "\u001B[33mSEO Reviewer\u001B[0m (to Critic):\n",
      "\n",
      "As an SEO reviewer, here are my suggestions for optimizing the content for better search engine visibility:\n",
      "\n",
      "- **Incorporate Keywords**: Include relevant keywords such as \"deep learning courses,\" \"AI education,\" and \"Andrew Ng deep learning\" throughout the content to improve search engine ranking and relevance.\n",
      "  \n",
      "- **Use Subheadings**: Break up the text with subheadings (e.g., \"About DeepLearning.AI,\" \"Course Offerings,\" \"Benefits of Learning AI\") to enhance readability and structure, making it easier for both users and search engines to navigate.\n",
      "\n",
      "- **Add Calls to Action**: Encourage user engagement by including specific calls to action (e.g., “Enroll now,” “Learn more about our courses”) to drive conversions and improve on-page user interaction metrics.\n",
      "\n",
      "--------------------------------------------------------------------------------\n",
      "\u001B[34m\n",
      "********************************************************************************\u001B[0m\n",
      "\u001B[34mStarting a new chat....\u001B[0m\n",
      "\u001B[34m\n",
      "********************************************************************************\u001B[0m\n",
      "\u001B[33mCritic\u001B[0m (to Legal Reviewer):\n",
      "\n",
      "Review the following content. \n",
      "            \n",
      "\n",
      " **Unlocking the Future with DeepLearning.AI**\n",
      "\n",
      "DeepLearning.AI is at the forefront of artificial intelligence education, revolutionizing how we learn about deep learning. Founded by AI visionary Andrew Ng, the platform offers comprehensive courses that cater to both beginners and advanced practitioners. With a hands-on approach and real-world applications, learners gain valuable skills that are highly sought after in today’s data-driven landscape. From foundational concepts to specialized topics, DeepLearning.AI empowers individuals and organizations to harness the potential of AI for innovation. Dive into the world of deep learning today and be part of the technological transformation shaping our future!\n",
      "Context: \n",
      "```json\n",
      "{\n",
      "  \"Reviewer\": \"SEO Reviewer\",\n",
      "  \"Review\": \"To optimize the content for better search engine visibility, consider incorporating relevant keywords such as 'deep learning courses,' 'AI education,' and 'Andrew Ng deep learning' throughout the text. Additionally, use subheadings to break up the content for enhanced readability and structure, making it easier for both users and search engines to navigate. Finally, include specific calls to action like 'Enroll now' or 'Learn more about our courses' to encourage user engagement and drive conversions.\"\n",
      "}\n",
      "```\n",
      "\n",
      "--------------------------------------------------------------------------------\n",
      "\u001B[33mLegal Reviewer\u001B[0m (to Critic):\n",
      "\n",
      "I am a legal reviewer. Here are my suggestions to ensure the content is legally compliant and free from any potential legal issues:\n",
      "\n",
      "- **Trademark Considerations:** Ensure that \"DeepLearning.AI\" and \"Andrew Ng\" are properly used with appropriate trademark symbols (™ or ®) if applicable, and verify that there are no trademark violations in the usage of these names.\n",
      "\n",
      "- **Copyright Compliance:** Confirm that any course materials or content referenced do not infringe upon copyrights held by others or misrepresent the ownership of the educational content offered by DeepLearning.AI.\n",
      "\n",
      "- **Privacy and Data Use:** If the platform collects personal data from users, ensure that the content complies with applicable data protection regulations (like GDPR or CCPA) by including a clear statement about data usage and privacy practices.\n",
      "\n",
      "--------------------------------------------------------------------------------\n",
      "\u001B[34m\n",
      "********************************************************************************\u001B[0m\n",
      "\u001B[34mStarting a new chat....\u001B[0m\n",
      "\u001B[34m\n",
      "********************************************************************************\u001B[0m\n",
      "\u001B[33mCritic\u001B[0m (to Ethics Reviewer):\n",
      "\n",
      "Review the following content. \n",
      "            \n",
      "\n",
      " **Unlocking the Future with DeepLearning.AI**\n",
      "\n",
      "DeepLearning.AI is at the forefront of artificial intelligence education, revolutionizing how we learn about deep learning. Founded by AI visionary Andrew Ng, the platform offers comprehensive courses that cater to both beginners and advanced practitioners. With a hands-on approach and real-world applications, learners gain valuable skills that are highly sought after in today’s data-driven landscape. From foundational concepts to specialized topics, DeepLearning.AI empowers individuals and organizations to harness the potential of AI for innovation. Dive into the world of deep learning today and be part of the technological transformation shaping our future!\n",
      "Context: \n",
      "```json\n",
      "{\n",
      "  \"Reviewer\": \"SEO Reviewer\",\n",
      "  \"Review\": \"To optimize the content for better search engine visibility, consider incorporating relevant keywords such as 'deep learning courses,' 'AI education,' and 'Andrew Ng deep learning' throughout the text. Additionally, use subheadings to break up the content for enhanced readability and structure, making it easier for both users and search engines to navigate. Finally, include specific calls to action like 'Enroll now' or 'Learn more about our courses' to encourage user engagement and drive conversions.\"\n",
      "}\n",
      "```\n",
      "```json\n",
      "{\n",
      "  \"Reviewer\": \"SEO Reviewer\",\n",
      "  \"Review\": \"To optimize the content for better search engine visibility, consider incorporating relevant keywords such as 'deep learning courses,' 'AI education,' and 'Andrew Ng deep learning' throughout the text. Additionally, use subheadings to break up the content for enhanced readability and structure, making it easier for both users and search engines to navigate. Finally, include specific calls to action like 'Enroll now' or 'Learn more about our courses' to encourage user engagement and drive conversions.\"\n",
      "}\n",
      "```\n",
      "\n",
      "--------------------------------------------------------------------------------\n",
      "\u001B[33mEthics Reviewer\u001B[0m (to Critic):\n",
      "\n",
      "I am an ethics reviewer. Here are my suggestions for ensuring the ethical integrity of the content:\n",
      "\n",
      "- **Transparency and Representation**: Clearly state if any affiliations or sponsorships exist with Andrew Ng or the platform, ensuring that learners are aware of any potential biases or conflicts of interest.\n",
      "  \n",
      "- **Accessibility and Inclusivity**: Emphasize efforts to make courses accessible to diverse learners, including considerations for learners with disabilities, and provide options for various learning styles and backgrounds.\n",
      "\n",
      "- **Data Privacy**: Highlight the commitment to protecting user data and privacy, particularly if the platform collects personal information for course enrollment or analytics purposes.\n",
      "\n",
      "--------------------------------------------------------------------------------\n",
      "\u001B[34m\n",
      "********************************************************************************\u001B[0m\n",
      "\u001B[34mStarting a new chat....\u001B[0m\n",
      "\u001B[34m\n",
      "********************************************************************************\u001B[0m\n",
      "\u001B[33mCritic\u001B[0m (to Meta Reviewer):\n",
      "\n",
      "Aggregrate feedback from all reviewers and give final suggestions on the writing.\n",
      "Context: \n",
      "```json\n",
      "{\n",
      "  \"Reviewer\": \"SEO Reviewer\",\n",
      "  \"Review\": \"To optimize the content for better search engine visibility, consider incorporating relevant keywords such as 'deep learning courses,' 'AI education,' and 'Andrew Ng deep learning' throughout the text. Additionally, use subheadings to break up the content for enhanced readability and structure, making it easier for both users and search engines to navigate. Finally, include specific calls to action like 'Enroll now' or 'Learn more about our courses' to encourage user engagement and drive conversions.\"\n",
      "}\n",
      "```\n",
      "```json\n",
      "{\n",
      "  \"Reviewer\": \"SEO Reviewer\",\n",
      "  \"Review\": \"To optimize the content for better search engine visibility, consider incorporating relevant keywords such as 'deep learning courses,' 'AI education,' and 'Andrew Ng deep learning' throughout the text. Additionally, use subheadings to break up the content for enhanced readability and structure, making it easier for both users and search engines to navigate. Finally, include specific calls to action like 'Enroll now' or 'Learn more about our courses' to encourage user engagement and drive conversions.\"\n",
      "}\n",
      "```\n",
      "```json\n",
      "{\n",
      "  \"reviewer\": \"Ethics Reviewer\",\n",
      "  \"review\": \"Here are my suggestions for ensuring the ethical integrity of the content: - Transparency and Representation: Clearly state if any affiliations or sponsorships exist with Andrew Ng or the platform, ensuring that learners are aware of any potential biases or conflicts of interest. - Accessibility and Inclusivity: Emphasize efforts to make courses accessible to diverse learners, including considerations for learners with disabilities, and provide options for various learning styles and backgrounds. - Data Privacy: Highlight the commitment to protecting user data and privacy, particularly if the platform collects personal information for course enrollment or analytics purposes.\"\n",
      "}\n",
      "```\n",
      "\n",
      "--------------------------------------------------------------------------------\n",
      "\u001B[33mMeta Reviewer\u001B[0m (to Critic):\n",
      "\n",
      "### Aggregated Feedback Summary:\n",
      "\n",
      "1. **SEO Optimization (2 Reviews)**:\n",
      "   - Both SEO reviewers emphasized the importance of incorporating relevant keywords throughout the content to enhance search engine visibility. Suggested keywords include \"deep learning courses,\" \"AI education,\" and \"Andrew Ng deep learning.\"\n",
      "   - They recommended the use of subheadings to improve the readability and structure of the content, which will benefit both users and search engines.\n",
      "   - Specific calls to action, such as \"Enroll now\" or \"Learn more about our courses,\" were proposed to drive user engagement and enhance conversion rates.\n",
      "\n",
      "2. **Ethical Considerations (1 Review)**:\n",
      "   - The ethics reviewer highlighted the need for transparency regarding any affiliations with Andrew Ng or associated platforms, ensuring that learners are informed about potential biases.\n",
      "   - Suggestions were made to focus on making courses more accessible and inclusive, specifically by addressing the needs of learners with disabilities and offering varied learning styles.\n",
      "   - The review also pointed out the importance of ensuring user data privacy, stressing that any data collection for course enrollment or analytics must prioritize user protection and trust.\n",
      "\n",
      "### Final Suggestions:\n",
      "\n",
      "Based on the aggregated feedback from the reviewers, here are the final recommendations for improving the writing:\n",
      "\n",
      "1. **Implement SEO Best Practices**:\n",
      "   - Revise the content to include the identified keywords naturally throughout the text.\n",
      "   - Organize content using clear subheadings to enhance readability and structure.\n",
      "   - Add strong calls to action that encourage user engagement, ensuring they are strategically placed within the text.\n",
      "\n",
      "2. **Enhance Ethical Transparency**:\n",
      "   - Clearly disclose any affiliations or sponsorships with Andrew Ng or his platforms to maintain credibility and trust with learners.\n",
      "   - Highlight accessibility measures taken to cater to diverse learners, ensuring the content represents a commitment to inclusivity.\n",
      "   - Include information about data privacy and how user information is protected, reinforcing trust in the platform.\n",
      "\n",
      "By addressing these suggestions, the content will not only be optimized for search engines but also uphold ethical standards, making it more engaging and trustworthy for potential learners.\n",
      "\n",
      "--------------------------------------------------------------------------------\n",
      "\u001B[33mCritic\u001B[0m (to Writer):\n",
      "\n",
      "### Aggregated Feedback Summary:\n",
      "\n",
      "1. **SEO Optimization (2 Reviews)**:\n",
      "   - Both SEO reviewers emphasized the importance of incorporating relevant keywords throughout the content to enhance search engine visibility. Suggested keywords include \"deep learning courses,\" \"AI education,\" and \"Andrew Ng deep learning.\"\n",
      "   - They recommended the use of subheadings to improve the readability and structure of the content, which will benefit both users and search engines.\n",
      "   - Specific calls to action, such as \"Enroll now\" or \"Learn more about our courses,\" were proposed to drive user engagement and enhance conversion rates.\n",
      "\n",
      "2. **Ethical Considerations (1 Review)**:\n",
      "   - The ethics reviewer highlighted the need for transparency regarding any affiliations with Andrew Ng or associated platforms, ensuring that learners are informed about potential biases.\n",
      "   - Suggestions were made to focus on making courses more accessible and inclusive, specifically by addressing the needs of learners with disabilities and offering varied learning styles.\n",
      "   - The review also pointed out the importance of ensuring user data privacy, stressing that any data collection for course enrollment or analytics must prioritize user protection and trust.\n",
      "\n",
      "### Final Suggestions:\n",
      "\n",
      "Based on the aggregated feedback from the reviewers, here are the final recommendations for improving the writing:\n",
      "\n",
      "1. **Implement SEO Best Practices**:\n",
      "   - Revise the content to include the identified keywords naturally throughout the text.\n",
      "   - Organize content using clear subheadings to enhance readability and structure.\n",
      "   - Add strong calls to action that encourage user engagement, ensuring they are strategically placed within the text.\n",
      "\n",
      "2. **Enhance Ethical Transparency**:\n",
      "   - Clearly disclose any affiliations or sponsorships with Andrew Ng or his platforms to maintain credibility and trust with learners.\n",
      "   - Highlight accessibility measures taken to cater to diverse learners, ensuring the content represents a commitment to inclusivity.\n",
      "   - Include information about data privacy and how user information is protected, reinforcing trust in the platform.\n",
      "\n",
      "By addressing these suggestions, the content will not only be optimized for search engines but also uphold ethical standards, making it more engaging and trustworthy for potential learners.\n",
      "\n",
      "--------------------------------------------------------------------------------\n",
      "\u001B[33mWriter\u001B[0m (to Critic):\n",
      "\n",
      "**Unlocking the Future with DeepLearning.AI**\n",
      "\n",
      "DeepLearning.AI is revolutionizing AI education with its in-depth deep learning courses designed by industry leader Andrew Ng. These courses offer an engaging, hands-on experience suitable for everyone—from beginners to advanced practitioners. \n",
      "\n",
      "Whether you want to explore foundational concepts or specialized techniques, DeepLearning.AI provides the skills necessary to excel in today’s data-driven landscape. Accessible and inclusive, the platform prioritizes diverse learning styles and user privacy. \n",
      "\n",
      "Join the AI revolution today! Enroll now to transform your career and leverage the power of deep learning. Learn more about our courses and start your journey into the future of technology!\n",
      "\n",
      "--------------------------------------------------------------------------------\n"
     ]
    }
   ],
   "execution_count": 19
  },
  {
   "metadata": {
    "ExecuteTime": {
     "end_time": "2024-07-31T22:48:05.331545Z",
     "start_time": "2024-07-31T22:48:05.328275Z"
    }
   },
   "cell_type": "code",
   "source": [
    "import pprint\n",
    "pprint.pprint(res.summary)"
   ],
   "id": "906e9d17f820b4a",
   "outputs": [
    {
     "name": "stdout",
     "output_type": "stream",
     "text": [
      "('**Unlocking the Future with DeepLearning.AI**\\n'\n",
      " '\\n'\n",
      " 'DeepLearning.AI is revolutionizing AI education with its in-depth deep '\n",
      " 'learning courses designed by industry leader Andrew Ng. These courses offer '\n",
      " 'an engaging, hands-on experience suitable for everyone—from beginners to '\n",
      " 'advanced practitioners. \\n'\n",
      " '\\n'\n",
      " 'Whether you want to explore foundational concepts or specialized techniques, '\n",
      " 'DeepLearning.AI provides the skills necessary to excel in today’s '\n",
      " 'data-driven landscape. Accessible and inclusive, the platform prioritizes '\n",
      " 'diverse learning styles and user privacy. \\n'\n",
      " '\\n'\n",
      " 'Join the AI revolution today! Enroll now to transform your career and '\n",
      " 'leverage the power of deep learning. Learn more about our courses and start '\n",
      " 'your journey into the future of technology!')\n"
     ]
    }
   ],
   "execution_count": 20
  },
  {
   "metadata": {
    "ExecuteTime": {
     "end_time": "2024-07-31T22:48:14.773147Z",
     "start_time": "2024-07-31T22:48:14.766597Z"
    }
   },
   "cell_type": "code",
   "source": "res.cost",
   "id": "2f08b5812a34b254",
   "outputs": [
    {
     "data": {
      "text/plain": [
       "{'usage_including_cached_inference': {'total_cost': 0.0013557,\n",
       "  'gpt-4o-mini-2024-07-18': {'cost': 0.0013557,\n",
       "   'prompt_tokens': 3098,\n",
       "   'completion_tokens': 1485,\n",
       "   'total_tokens': 4583}},\n",
       " 'usage_excluding_cached_inference': {'total_cost': 0.0006593999999999999,\n",
       "  'gpt-4o-mini-2024-07-18': {'cost': 0.0006593999999999999,\n",
       "   'prompt_tokens': 1488,\n",
       "   'completion_tokens': 727,\n",
       "   'total_tokens': 2215}}}"
      ]
     },
     "execution_count": 21,
     "metadata": {},
     "output_type": "execute_result"
    }
   ],
   "execution_count": 21
  },
  {
   "metadata": {},
   "cell_type": "code",
   "outputs": [],
   "execution_count": null,
   "source": "",
   "id": "59e8756d78c3c814"
  }
 ],
 "metadata": {
  "kernelspec": {
   "display_name": "Python 3",
   "language": "python",
   "name": "python3"
  },
  "language_info": {
   "codemirror_mode": {
    "name": "ipython",
    "version": 2
   },
   "file_extension": ".py",
   "mimetype": "text/x-python",
   "name": "python",
   "nbconvert_exporter": "python",
   "pygments_lexer": "ipython2",
   "version": "2.7.6"
  }
 },
 "nbformat": 4,
 "nbformat_minor": 5
}
