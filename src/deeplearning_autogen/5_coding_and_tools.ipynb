{
 "cells": [
  {
   "metadata": {},
   "cell_type": "markdown",
   "source": "## Setup",
   "id": "46c0e0307fd359aa"
  },
  {
   "cell_type": "code",
   "id": "initial_id",
   "metadata": {
    "collapsed": true,
    "ExecuteTime": {
     "end_time": "2024-08-01T16:38:38.037408Z",
     "start_time": "2024-08-01T16:38:38.032673Z"
    }
   },
   "source": [
    "from dotenv import load_dotenv\n",
    "\n",
    "load_dotenv()\n",
    "llm_config={\"model\": \"gpt-4o\"} "
   ],
   "outputs": [],
   "execution_count": 37
  },
  {
   "metadata": {},
   "cell_type": "markdown",
   "source": "## Define a code executor",
   "id": "844fb7df07663ad7"
  },
  {
   "metadata": {
    "ExecuteTime": {
     "end_time": "2024-08-01T16:38:38.956855Z",
     "start_time": "2024-08-01T16:38:38.953443Z"
    }
   },
   "cell_type": "code",
   "source": "from autogen.coding import LocalCommandLineCodeExecutor",
   "id": "b779c16ef4d28cf3",
   "outputs": [],
   "execution_count": 38
  },
  {
   "metadata": {
    "ExecuteTime": {
     "end_time": "2024-08-01T16:38:39.331132Z",
     "start_time": "2024-08-01T16:38:39.327508Z"
    }
   },
   "cell_type": "code",
   "source": [
    "executor = LocalCommandLineCodeExecutor(\n",
    "    timeout=60,\n",
    "    work_dir=\"coding\",\n",
    ")"
   ],
   "id": "817fa3ce1c98908a",
   "outputs": [],
   "execution_count": 39
  },
  {
   "metadata": {},
   "cell_type": "markdown",
   "source": "## Create agents",
   "id": "4f8df5a32ccca467"
  },
  {
   "metadata": {
    "ExecuteTime": {
     "end_time": "2024-08-01T16:38:40.360420Z",
     "start_time": "2024-08-01T16:38:40.357620Z"
    }
   },
   "cell_type": "code",
   "source": "from autogen import ConversableAgent, AssistantAgent",
   "id": "5479363387a27f77",
   "outputs": [],
   "execution_count": 40
  },
  {
   "metadata": {
    "ExecuteTime": {
     "end_time": "2024-08-01T16:38:40.701815Z",
     "start_time": "2024-08-01T16:38:40.697685Z"
    }
   },
   "cell_type": "code",
   "source": [
    "code_executor_agent = ConversableAgent(\n",
    "    name=\"code_executor_agent\",\n",
    "    llm_config=False,\n",
    "    code_execution_config={\"executor\": executor},\n",
    "    human_input_mode=\"ALWAYS\",\n",
    "    default_auto_reply=\n",
    "    \"Please continue. If everything is done, reply 'TERMINATE'.\",\n",
    ")    "
   ],
   "id": "d106549d3b5695e9",
   "outputs": [],
   "execution_count": 41
  },
  {
   "metadata": {
    "ExecuteTime": {
     "end_time": "2024-08-01T16:38:41.262067Z",
     "start_time": "2024-08-01T16:38:41.204468Z"
    }
   },
   "cell_type": "code",
   "source": [
    "code_writer_agent = AssistantAgent(\n",
    "    name=\"code_writer_agent\",\n",
    "    llm_config=llm_config,\n",
    "    code_execution_config=False,\n",
    "    human_input_mode=\"NEVER\",\n",
    ")"
   ],
   "id": "11c82687ec9b0ece",
   "outputs": [],
   "execution_count": 42
  },
  {
   "metadata": {
    "ExecuteTime": {
     "end_time": "2024-08-01T16:38:41.543844Z",
     "start_time": "2024-08-01T16:38:41.540411Z"
    }
   },
   "cell_type": "code",
   "source": "code_writer_agent_system_message = code_writer_agent.system_message",
   "id": "3b41c57029489fc6",
   "outputs": [],
   "execution_count": 43
  },
  {
   "metadata": {
    "ExecuteTime": {
     "end_time": "2024-08-01T16:38:42.032329Z",
     "start_time": "2024-08-01T16:38:42.028574Z"
    }
   },
   "cell_type": "code",
   "source": "print(code_writer_agent_system_message)",
   "id": "b41740bace7173e2",
   "outputs": [
    {
     "name": "stdout",
     "output_type": "stream",
     "text": [
      "You are a helpful AI assistant.\n",
      "Solve tasks using your coding and language skills.\n",
      "In the following cases, suggest python code (in a python coding block) or shell script (in a sh coding block) for the user to execute.\n",
      "    1. When you need to collect info, use the code to output the info you need, for example, browse or search the web, download/read a file, print the content of a webpage or a file, get the current date/time, check the operating system. After sufficient info is printed and the task is ready to be solved based on your language skill, you can solve the task by yourself.\n",
      "    2. When you need to perform some task with code, use the code to perform the task and output the result. Finish the task smartly.\n",
      "Solve the task step by step if you need to. If a plan is not provided, explain your plan first. Be clear which step uses code, and which step uses your language skill.\n",
      "When using code, you must indicate the script type in the code block. The user cannot provide any other feedback or perform any other action beyond executing the code you suggest. The user can't modify your code. So do not suggest incomplete code which requires users to modify. Don't use a code block if it's not intended to be executed by the user.\n",
      "If you want the user to save the code in a file before executing it, put # filename: <filename> inside the code block as the first line. Don't include multiple code blocks in one response. Do not ask users to copy and paste the result. Instead, use 'print' function for the output when relevant. Check the execution result returned by the user.\n",
      "If the result indicates there is an error, fix the error and output the code again. Suggest the full code instead of partial code or code changes. If the error can't be fixed or if the task is not solved even after the code is executed successfully, analyze the problem, revisit your assumption, collect additional info you need, and think of a different approach to try.\n",
      "When you find an answer, verify the answer carefully. Include verifiable evidence in your response if possible.\n",
      "Reply \"TERMINATE\" in the end when everything is done.\n",
      "    \n"
     ]
    }
   ],
   "execution_count": 44
  },
  {
   "metadata": {},
   "cell_type": "markdown",
   "source": "## The task!",
   "id": "14b2b80c1073ca45"
  },
  {
   "metadata": {
    "ExecuteTime": {
     "end_time": "2024-08-01T16:38:43.786992Z",
     "start_time": "2024-08-01T16:38:43.781229Z"
    }
   },
   "cell_type": "code",
   "source": [
    "import datetime\n",
    "\n",
    "today = datetime.datetime.now().date()\n",
    "message = f\"Today is {today}. \"\\\n",
    "\"Create a plot showing stock gain YTD for NVDA and TSLA. \"\\\n",
    "\"Make sure the code is in markdown code block and save the figure\"\\\n",
    "\" to a file ytd_stock_gains.png.\"\"\""
   ],
   "id": "2af22269525b5f2",
   "outputs": [],
   "execution_count": 45
  },
  {
   "metadata": {
    "ExecuteTime": {
     "end_time": "2024-08-01T16:40:02.956165Z",
     "start_time": "2024-08-01T16:38:44.155055Z"
    }
   },
   "cell_type": "code",
   "source": [
    "chat_result = code_executor_agent.initiate_chat(\n",
    "    code_writer_agent,\n",
    "    message=message,\n",
    ")"
   ],
   "id": "5def42094aefa2e6",
   "outputs": [
    {
     "name": "stdout",
     "output_type": "stream",
     "text": [
      "\u001B[33mcode_executor_agent\u001B[0m (to code_writer_agent):\n",
      "\n",
      "Today is 2024-08-01. Create a plot showing stock gain YTD for NVDA and TSLA. Make sure the code is in markdown code block and save the figure to a file ytd_stock_gains.png.\n",
      "\n",
      "--------------------------------------------------------------------------------\n",
      "\u001B[33mcode_writer_agent\u001B[0m (to code_executor_agent):\n",
      "\n",
      "To create a plot showing the year-to-date (YTD) stock gains for NVDA and TSLA, we'll follow these steps:\n",
      "\n",
      "1. Fetch historical stock data for NVDA and TSLA from a reliable source, such as Yahoo Finance.\n",
      "2. Calculate the YTD gain.\n",
      "3. Generate a plot showing the YTD gains.\n",
      "4. Save the plot to a file named `ytd_stock_gains.png`.\n",
      "\n",
      "We'll use the `yfinance` library to fetch the stock data and the `matplotlib` library for plotting.\n",
      "\n",
      "Below is the Python code to accomplish this:\n",
      "\n",
      "```python\n",
      "# filename: plot_ytd_stock_gains.py\n",
      "\n",
      "import yfinance as yf\n",
      "import matplotlib.pyplot as plt\n",
      "import pandas as pd\n",
      "\n",
      "# Fetch historical stock data for NVDA and TSLA\n",
      "nvda = yf.Ticker('NVDA')\n",
      "tsla = yf.TTicker('TSLA')\n",
      "\n",
      "# Define time range from the beginning of the year to the current date\n",
      "start_date = '2024-01-01'\n",
      "end_date = '2024-08-01'\n",
      "\n",
      "nvda_data = nvda.history(start=start_date, end=end_date)\n",
      "tsla_data = tsla.history(start=start_date, end=end_date)\n",
      "\n",
      "# Calculate YTD gain\n",
      "nvda_ytd_gain = (nvda_data['Close'][-1] - nvda_data['Close'][0]) / nvda_data['Close'][0] * 100\n",
      "tsla_ytd_gain = (tsla_data['Close'][-1] - tsla_data['Close'][0]) / tsla_data['Close'][0] * 100\n",
      "\n",
      "# Data to plot\n",
      "stocks = ['NVDA', 'TSLA']\n",
      "gains = [nvda_ytd_gain, tsla_ytd_gain]\n",
      "\n",
      "# Plotting the figures\n",
      "plt.figure(figsize=(10, 6))\n",
      "plt.bar(stocks, gains, color=['green', 'blue'])\n",
      "plt.xlabel('Stock')\n",
      "plt.ylabel('YTD Gain (%)')\n",
      "plt.title('YTD Stock Gains (2024)')\n",
      "plt.grid(True)\n",
      "\n",
      "# Save the plot to a file\n",
      "plt.savefig('ytd_stock_gains.png')\n",
      "\n",
      "# Print the YTD gains for verification\n",
      "print(f'NVDA YTD Gain: {nvda_ytd_gain:.2f}%')\n",
      "print(f'TSLA YTD Gain: {tsla_ytd_gain:.2f}%')\n",
      "\n",
      "plt.show()\n",
      "```\n",
      "\n",
      "Instructions:\n",
      "\n",
      "1. Save the above code into a file named `plot_ytd_stock_gains.py`.\n",
      "2. Execute the script using the following command:\n",
      "\n",
      "```sh\n",
      "python plot_ytd_stock_gains.py\n",
      "```\n",
      "\n",
      "This will create a plot showing the YTD gains for NVDA and TSLA and save it as `ytd_stock_gains.png`. It will also print the YTD gain percentages for both stocks for verification. \n",
      "\n",
      "Once executed, please share the verification output from running the script.\n",
      "\n",
      "--------------------------------------------------------------------------------\n",
      "\u001B[31m\n",
      ">>>>>>>> NO HUMAN INPUT RECEIVED.\u001B[0m\n",
      "\u001B[31m\n",
      ">>>>>>>> USING AUTO REPLY...\u001B[0m\n",
      "\u001B[31m\n",
      ">>>>>>>> EXECUTING 2 CODE BLOCKS (inferred languages are [python, sh])...\u001B[0m\n",
      "\u001B[33mcode_executor_agent\u001B[0m (to code_writer_agent):\n",
      "\n",
      "exitcode: 1 (execution failed)\n",
      "Code output: Matplotlib is building the font cache; this may take a moment.\n",
      "Traceback (most recent call last):\n",
      "  File \"/Users/danielboza/Documents/Projects/langgraph-experiments/src/deeplearning_autogen/coding/plot_ytd_stock_gains.py\", line 9, in <module>\n",
      "    tsla = yf.TTicker('TSLA')\n",
      "           ^^^^^^^^^^\n",
      "AttributeError: module 'yfinance' has no attribute 'TTicker'. Did you mean: 'Ticker'?\n",
      "\n",
      "\n",
      "--------------------------------------------------------------------------------\n",
      "\u001B[33mcode_writer_agent\u001B[0m (to code_executor_agent):\n",
      "\n",
      "The error is due to a typo in the code. It should be `yf.Ticker('TSLA')` instead of `yf.TTicker('TSLA')`. Here is the corrected code:\n",
      "\n",
      "```python\n",
      "# filename: plot_ytd_stock_gains.py\n",
      "\n",
      "import yfinance as yf\n",
      "import matplotlib.pyplot as plt\n",
      "import pandas as pd\n",
      "\n",
      "# Fetch historical stock data for NVDA and TSLA\n",
      "nvda = yf.Ticker('NVDA')\n",
      "tsla = yf.Ticker('TSLA')\n",
      "\n",
      "# Define time range from the beginning of the year to the current date\n",
      "start_date = '2024-01-01'\n",
      "end_date = '2024-08-01'\n",
      "\n",
      "nvda_data = nvda.history(start=start_date, end=end_date)\n",
      "tsla_data = tsla.history(start=start_date, end=end_date)\n",
      "\n",
      "# Calculate YTD gain\n",
      "nvda_ytd_gain = (nvda_data['Close'][-1] - nvda_data['Close'][0]) / nvda_data['Close'][0] * 100\n",
      "tsla_ytd_gain = (tsla_data['Close'][-1] - tsla_data['Close'][0]) / tsla_data['Close'][0] * 100\n",
      "\n",
      "# Data to plot\n",
      "stocks = ['NVDA', 'TSLA']\n",
      "gains = [nvda_ytd_gain, tsla_ytd_gain]\n",
      "\n",
      "# Plotting the figures\n",
      "plt.figure(figsize=(10, 6))\n",
      "plt.bar(stocks, gains, color=['green', 'blue'])\n",
      "plt.xlabel('Stock')\n",
      "plt.ylabel('YTD Gain (%)')\n",
      "plt.title('YTD Stock Gains (2024)')\n",
      "plt.grid(True)\n",
      "\n",
      "# Save the plot to a file\n",
      "plt.savefig('ytd_stock_gains.png')\n",
      "\n",
      "# Print the YTD gains for verification\n",
      "print(f'NVDA YTD Gain: {nvda_ytd_gain:.2f}%')\n",
      "print(f'TSLA YTD Gain: {tsla_ytd_gain:.2f}%')\n",
      "\n",
      "plt.show()\n",
      "```\n",
      "\n",
      "Please save the corrected code to `plot_ytd_stock_gains.py` and execute it again using the following command:\n",
      "\n",
      "```sh\n",
      "python plot_ytd_stock_gains.py\n",
      "```\n",
      "\n",
      "This should resolve the issue. Please share the output after execution.\n",
      "\n",
      "--------------------------------------------------------------------------------\n",
      "\u001B[31m\n",
      ">>>>>>>> NO HUMAN INPUT RECEIVED.\u001B[0m\n",
      "\u001B[31m\n",
      ">>>>>>>> USING AUTO REPLY...\u001B[0m\n",
      "\u001B[31m\n",
      ">>>>>>>> EXECUTING 2 CODE BLOCKS (inferred languages are [python, sh])...\u001B[0m\n",
      "\u001B[33mcode_executor_agent\u001B[0m (to code_writer_agent):\n",
      "\n",
      "exitcode: 0 (execution succeeded)\n",
      "Code output: /Users/danielboza/Documents/Projects/langgraph-experiments/src/deeplearning_autogen/coding/plot_ytd_stock_gains.py:19: FutureWarning: Series.__getitem__ treating keys as positions is deprecated. In a future version, integer keys will always be treated as labels (consistent with DataFrame behavior). To access a value by position, use `ser.iloc[pos]`\n",
      "  nvda_ytd_gain = (nvda_data['Close'][-1] - nvda_data['Close'][0]) / nvda_data['Close'][0] * 100\n",
      "/Users/danielboza/Documents/Projects/langgraph-experiments/src/deeplearning_autogen/coding/plot_ytd_stock_gains.py:20: FutureWarning: Series.__getitem__ treating keys as positions is deprecated. In a future version, integer keys will always be treated as labels (consistent with DataFrame behavior). To access a value by position, use `ser.iloc[pos]`\n",
      "  tsla_ytd_gain = (tsla_data['Close'][-1] - tsla_data['Close'][0]) / tsla_data['Close'][0] * 100\n",
      "NVDA YTD Gain: 142.97%\n",
      "TSLA YTD Gain: -6.58%\n",
      "Figure(1000x600)\n",
      "/Users/danielboza/Documents/Projects/langgraph-experiments/src/deeplearning_autogen/coding/plot_ytd_stock_gains.py:19: FutureWarning: Series.__getitem__ treating keys as positions is deprecated. In a future version, integer keys will always be treated as labels (consistent with DataFrame behavior). To access a value by position, use `ser.iloc[pos]`\n",
      "  nvda_ytd_gain = (nvda_data['Close'][-1] - nvda_data['Close'][0]) / nvda_data['Close'][0] * 100\n",
      "/Users/danielboza/Documents/Projects/langgraph-experiments/src/deeplearning_autogen/coding/plot_ytd_stock_gains.py:20: FutureWarning: Series.__getitem__ treating keys as positions is deprecated. In a future version, integer keys will always be treated as labels (consistent with DataFrame behavior). To access a value by position, use `ser.iloc[pos]`\n",
      "  tsla_ytd_gain = (tsla_data['Close'][-1] - tsla_data['Close'][0]) / tsla_data['Close'][0] * 100\n",
      "NVDA YTD Gain: 142.97%\n",
      "TSLA YTD Gain: -6.58%\n",
      "Figure(1000x600)\n",
      "\n",
      "\n",
      "--------------------------------------------------------------------------------\n",
      "\u001B[33mcode_writer_agent\u001B[0m (to code_executor_agent):\n",
      "\n",
      "The script executed successfully and generated the YTD gains plot for NVDA and TSLA as expected. The warnings are due to changes in how pandas is handling positional indexing, and they can be addressed by using `.iloc` for positional indexing. I'll adjust the script accordingly to suppress these warnings:\n",
      "\n",
      "```python\n",
      "# filename: plot_ytd_stock_gains.py\n",
      "\n",
      "import yfinance as yf\n",
      "import matplotlib.pyplot as plt\n",
      "import pandas as pd\n",
      "\n",
      "# Fetch historical stock data for NVDA and TSLA\n",
      "nvda = yf.Ticker('NVDA')\n",
      "tsla = yf.Ticker('TSLA')\n",
      "\n",
      "# Define time range from the beginning of the year to the current date\n",
      "start_date = '2024-01-01'\n",
      "end_date = '2024-08-01'\n",
      "\n",
      "nvda_data = nvda.history(start=start_date, end=end_date)\n",
      "tsla_data = tsla.history(start=start_date, end=end_date)\n",
      "\n",
      "# Calculate YTD gain using .iloc for positional indexing\n",
      "nvda_ytd_gain = (nvda_data['Close'].iloc[-1] - nvda_data['Close'].iloc[0]) / nvda_data['Close'].iloc[0] * 100\n",
      "tsla_ytd_gain = (tsla_data['Close'].iloc[-1] - tsla_data['Close'].iloc[0]) / tsla_data['Close'].iloc[0] * 100\n",
      "\n",
      "# Data to plot\n",
      "stocks = ['NVDA', 'TSLA']\n",
      "gains = [nvda_ytd_gain, tsla_ytd_gain]\n",
      "\n",
      "# Plotting the figures\n",
      "plt.figure(figsize=(10, 6))\n",
      "plt.bar(stocks, gains, color=['green', 'blue'])\n",
      "plt.xlabel('Stock')\n",
      "plt.ylabel('YTD Gain (%)')\n",
      "plt.title('YTD Stock Gains (2024)')\n",
      "plt.grid(True)\n",
      "\n",
      "# Save the plot to a file\n",
      "plt.savefig('ytd_stock_gains.png')\n",
      "\n",
      "# Print the YTD gains for verification\n",
      "print(f'NVDA YTD Gain: {nvda_ytd_gain:.2f}%')\n",
      "print(f'TSLA YTD Gain: {tsla_ytd_gain:.2f}%')\n",
      "\n",
      "plt.show()\n",
      "```\n",
      "\n",
      "Please save the updated script to `plot_ytd_stock_gains.py` and execute it again using the following command:\n",
      "\n",
      "```sh\n",
      "python plot_ytd_stock_gains.py\n",
      "```\n",
      "\n",
      "This will handle the future warning regarding positional indexing and produce the correct output.\n",
      "\n",
      "The computed YTD gains were:\n",
      "- **NVDA YTD Gain: 142.97%**\n",
      "- **TSLA YTD Gain: -6.58%**\n",
      "\n",
      "The plot should be saved as `ytd_stock_gains.png`. This confirms the task is complete. \n",
      "\n",
      "TERMINATE\n",
      "\n",
      "--------------------------------------------------------------------------------\n",
      "\u001B[31m\n",
      ">>>>>>>> NO HUMAN INPUT RECEIVED.\u001B[0m\n",
      "\u001B[31m\n",
      ">>>>>>>> USING AUTO REPLY...\u001B[0m\n",
      "\u001B[31m\n",
      ">>>>>>>> EXECUTING 2 CODE BLOCKS (inferred languages are [python, sh])...\u001B[0m\n",
      "\u001B[33mcode_executor_agent\u001B[0m (to code_writer_agent):\n",
      "\n",
      "exitcode: 0 (execution succeeded)\n",
      "Code output: NVDA YTD Gain: 142.97%\n",
      "TSLA YTD Gain: -6.58%\n",
      "Figure(1000x600)\n",
      "NVDA YTD Gain: 142.97%\n",
      "TSLA YTD Gain: -6.58%\n",
      "Figure(1000x600)\n",
      "\n",
      "\n",
      "--------------------------------------------------------------------------------\n",
      "\u001B[33mcode_writer_agent\u001B[0m (to code_executor_agent):\n",
      "\n",
      "Excellent! The script executed successfully, and the warnings have been addressed. The Year-to-Date (YTD) gains for NVDA and TSLA have been correctly calculated, and the plot is saved as `ytd_stock_gains.png`.\n",
      "\n",
      "To summarize:\n",
      "- **NVDA YTD Gain:** 142.97%\n",
      "- **TSLA YTD Gain:** -6.58%\n",
      "\n",
      "You should now have the file `ytd_stock_gains.png` in your directory, and the plot correctly visualizes the YTD gains for NVDA and TSLA.\n",
      "\n",
      "Everything is completed as expected. \n",
      "\n",
      "TERMINATE\n",
      "\n",
      "--------------------------------------------------------------------------------\n",
      "\u001B[33mcode_executor_agent\u001B[0m (to code_writer_agent):\n",
      "\n",
      "TERMINATE\n",
      "\n",
      "--------------------------------------------------------------------------------\n"
     ]
    }
   ],
   "execution_count": 46
  },
  {
   "metadata": {
    "ExecuteTime": {
     "end_time": "2024-08-01T16:40:08.691349Z",
     "start_time": "2024-08-01T16:40:08.683186Z"
    }
   },
   "cell_type": "code",
   "source": [
    "import os\n",
    "from IPython.display import Image\n",
    "\n",
    "Image(os.path.join(\"coding\", \"ytd_stock_gains.png\"))"
   ],
   "id": "8a4527107532e7ba",
   "outputs": [
    {
     "data": {
      "image/png": "[encoded data removed]",
      "text/plain": [
       "<IPython.core.display.Image object>"
      ]
     },
     "execution_count": 47,
     "metadata": {},
     "output_type": "execute_result"
    }
   ],
   "execution_count": 47
  },
  {
   "metadata": {},
   "cell_type": "markdown",
   "source": "## User-Defined Functions",
   "id": "e44789ae1d5252f2"
  },
  {
   "metadata": {
    "ExecuteTime": {
     "end_time": "2024-08-01T16:40:15.418182Z",
     "start_time": "2024-08-01T16:40:15.413904Z"
    }
   },
   "cell_type": "code",
   "source": [
    "def get_stock_prices(stock_symbols, start_date, end_date):\n",
    "    \"\"\"Get the stock prices for the given stock symbols between\n",
    "    the start and end dates.\n",
    "\n",
    "    Args:\n",
    "        stock_symbols (str or list): The stock symbols to get the\n",
    "        prices for.\n",
    "        start_date (str): The start date in the format \n",
    "        'YYYY-MM-DD'.\n",
    "        end_date (str): The end date in the format 'YYYY-MM-DD'.\n",
    "    \n",
    "    Returns:\n",
    "        pandas.DataFrame: The stock prices for the given stock\n",
    "        symbols indexed by date, with one column per stock \n",
    "        symbol.\n",
    "    \"\"\"\n",
    "    import yfinance\n",
    "\n",
    "    stock_data = yfinance.download(\n",
    "        stock_symbols, start=start_date, end=end_date\n",
    "    )\n",
    "    return stock_data.get(\"Close\")"
   ],
   "id": "ef322f9819676ed2",
   "outputs": [],
   "execution_count": 48
  },
  {
   "metadata": {
    "ExecuteTime": {
     "end_time": "2024-08-01T16:40:16.248409Z",
     "start_time": "2024-08-01T16:40:16.243633Z"
    }
   },
   "cell_type": "code",
   "source": [
    "def plot_stock_prices(stock_prices, filename):\n",
    "    \"\"\"Plot the stock prices for the given stock symbols.\n",
    "\n",
    "    Args:\n",
    "        stock_prices (pandas.DataFrame): The stock prices for the \n",
    "        given stock symbols.\n",
    "    \"\"\"\n",
    "    import matplotlib.pyplot as plt\n",
    "\n",
    "    plt.figure(figsize=(10, 5))\n",
    "    for column in stock_prices.columns:\n",
    "        plt.plot(\n",
    "            stock_prices.index, stock_prices[column], label=column\n",
    "                )\n",
    "    plt.title(\"Stock Prices\")\n",
    "    plt.xlabel(\"Date\")\n",
    "    plt.ylabel(\"Price\")\n",
    "    plt.grid(True)\n",
    "    plt.savefig(filename)"
   ],
   "id": "1a3ab047a3407bdf",
   "outputs": [],
   "execution_count": 49
  },
  {
   "metadata": {
    "ExecuteTime": {
     "end_time": "2024-08-01T16:40:19.468988Z",
     "start_time": "2024-08-01T16:40:19.464232Z"
    }
   },
   "cell_type": "code",
   "source": [
    "executor = LocalCommandLineCodeExecutor(\n",
    "    timeout=60,\n",
    "    work_dir=\"coding\",\n",
    "    functions=[get_stock_prices, plot_stock_prices],\n",
    ")"
   ],
   "id": "905f14911b349da5",
   "outputs": [],
   "execution_count": 50
  },
  {
   "metadata": {
    "ExecuteTime": {
     "end_time": "2024-08-01T16:40:19.852776Z",
     "start_time": "2024-08-01T16:40:19.848296Z"
    }
   },
   "cell_type": "code",
   "source": [
    "code_writer_agent_system_message += executor.format_functions_for_prompt()\n",
    "print(code_writer_agent_system_message)"
   ],
   "id": "ac7c18081b90382f",
   "outputs": [
    {
     "name": "stdout",
     "output_type": "stream",
     "text": [
      "You are a helpful AI assistant.\n",
      "Solve tasks using your coding and language skills.\n",
      "In the following cases, suggest python code (in a python coding block) or shell script (in a sh coding block) for the user to execute.\n",
      "    1. When you need to collect info, use the code to output the info you need, for example, browse or search the web, download/read a file, print the content of a webpage or a file, get the current date/time, check the operating system. After sufficient info is printed and the task is ready to be solved based on your language skill, you can solve the task by yourself.\n",
      "    2. When you need to perform some task with code, use the code to perform the task and output the result. Finish the task smartly.\n",
      "Solve the task step by step if you need to. If a plan is not provided, explain your plan first. Be clear which step uses code, and which step uses your language skill.\n",
      "When using code, you must indicate the script type in the code block. The user cannot provide any other feedback or perform any other action beyond executing the code you suggest. The user can't modify your code. So do not suggest incomplete code which requires users to modify. Don't use a code block if it's not intended to be executed by the user.\n",
      "If you want the user to save the code in a file before executing it, put # filename: <filename> inside the code block as the first line. Don't include multiple code blocks in one response. Do not ask users to copy and paste the result. Instead, use 'print' function for the output when relevant. Check the execution result returned by the user.\n",
      "If the result indicates there is an error, fix the error and output the code again. Suggest the full code instead of partial code or code changes. If the error can't be fixed or if the task is not solved even after the code is executed successfully, analyze the problem, revisit your assumption, collect additional info you need, and think of a different approach to try.\n",
      "When you find an answer, verify the answer carefully. Include verifiable evidence in your response if possible.\n",
      "Reply \"TERMINATE\" in the end when everything is done.\n",
      "    You have access to the following user defined functions. They can be accessed from the module called `functions` by their function names.\n",
      "\n",
      "For example, if there was a function called `foo` you could import it by writing `from functions import foo`\n",
      "\n",
      "def get_stock_prices(stock_symbols, start_date, end_date):\n",
      "    \"\"\"Get the stock prices for the given stock symbols between\n",
      "        the start and end dates.\n",
      "\n",
      "        Args:\n",
      "            stock_symbols (str or list): The stock symbols to get the\n",
      "            prices for.\n",
      "            start_date (str): The start date in the format \n",
      "            'YYYY-MM-DD'.\n",
      "            end_date (str): The end date in the format 'YYYY-MM-DD'.\n",
      "\n",
      "        Returns:\n",
      "            pandas.DataFrame: The stock prices for the given stock\n",
      "            symbols indexed by date, with one column per stock \n",
      "            symbol.\n",
      "    \"\"\"\n",
      "    ...\n",
      "\n",
      "def plot_stock_prices(stock_prices, filename):\n",
      "    \"\"\"Plot the stock prices for the given stock symbols.\n",
      "\n",
      "        Args:\n",
      "            stock_prices (pandas.DataFrame): The stock prices for the \n",
      "            given stock symbols.\n",
      "    \"\"\"\n",
      "    ...\n"
     ]
    }
   ],
   "execution_count": 51
  },
  {
   "metadata": {
    "ExecuteTime": {
     "end_time": "2024-08-01T16:40:22.227259Z",
     "start_time": "2024-08-01T16:40:22.163048Z"
    }
   },
   "cell_type": "code",
   "source": [
    "code_writer_agent = ConversableAgent(\n",
    "    name=\"code_writer_agent\",\n",
    "    system_message=code_writer_agent_system_message,\n",
    "    llm_config=llm_config,\n",
    "    code_execution_config=False,\n",
    "    human_input_mode=\"NEVER\",\n",
    ")"
   ],
   "id": "a4f941abf8390dae",
   "outputs": [],
   "execution_count": 52
  },
  {
   "metadata": {
    "ExecuteTime": {
     "end_time": "2024-08-01T16:40:22.576218Z",
     "start_time": "2024-08-01T16:40:22.572071Z"
    }
   },
   "cell_type": "code",
   "source": [
    "code_executor_agent = ConversableAgent(\n",
    "    name=\"code_executor_agent\",\n",
    "    llm_config=False,\n",
    "    code_execution_config={\"executor\": executor},\n",
    "    human_input_mode=\"ALWAYS\",\n",
    "    default_auto_reply=\n",
    "    \"Please continue. If everything is done, reply 'TERMINATE'.\",\n",
    ")"
   ],
   "id": "1873e7175eace29d",
   "outputs": [],
   "execution_count": 53
  },
  {
   "metadata": {
    "ExecuteTime": {
     "end_time": "2024-08-01T16:40:57.220067Z",
     "start_time": "2024-08-01T16:40:23.527863Z"
    }
   },
   "cell_type": "code",
   "source": [
    "chat_result = code_executor_agent.initiate_chat(\n",
    "    code_writer_agent,\n",
    "    message=f\"Today is {today}.\"\n",
    "    \"Download the stock prices YTD for NVDA and TSLA and create\"\n",
    "    \"a plot. Make sure the code is in markdown code block and \"\n",
    "    \"save the figure to a file stock_prices_YTD_plot.png.\",\n",
    ")"
   ],
   "id": "e06cb505ebb3baac",
   "outputs": [
    {
     "name": "stdout",
     "output_type": "stream",
     "text": [
      "\u001B[33mcode_executor_agent\u001B[0m (to code_writer_agent):\n",
      "\n",
      "Today is 2024-08-01.Download the stock prices YTD for NVDA and TSLA and createa plot. Make sure the code is in markdown code block and save the figure to a file stock_prices_YTD_plot.png.\n",
      "\n",
      "--------------------------------------------------------------------------------\n",
      "\u001B[33mcode_writer_agent\u001B[0m (to code_executor_agent):\n",
      "\n",
      "Let's break down the task into steps and then implement them in the Python code block.\n",
      "\n",
      "### Steps:\n",
      "1. Calculate the start date for Year-To-Date (YTD) which is `2024-01-01`.\n",
      "2. Download the stock prices for NVDA and TSLA from `2024-01-01` to `2024-08-01` using the `get_stock_prices` function.\n",
      "3. Plot the stock prices and save the figure to `stock_prices_YTD_plot.png` using the `plot_stock_prices` function.\n",
      "\n",
      "Here's the complete Python code:\n",
      "\n",
      "```python\n",
      "# filename: download_and_plot_stock_prices.py\n",
      "\n",
      "from datetime import datetime\n",
      "\n",
      "# Define today's date and the YTD start date\n",
      "today_date = \"2024-08-01\"\n",
      "ytd_start_date = \"2024-01-01\"\n",
      "\n",
      "# Define the stock symbols\n",
      "stock_symbols = ['NVDA', 'TSLA']\n",
      "\n",
      "# Import required functions\n",
      "from functions import get_stock_prices, plot_stock_prices\n",
      "\n",
      "# Retrieve stock prices from the start of the year to today\n",
      "stock_prices = get_stock_prices(stock_symbols, ytd_start_date, today_date)\n",
      "\n",
      "# Plot stock prices and save to a file\n",
      "plot_stock_prices(stock_prices, \"stock_prices_YTD_plot.png\")\n",
      "\n",
      "# Print completion message\n",
      "print(\"Stock prices have been downloaded and plot has been saved to 'stock_prices_YTD_plot.png'.\")\n",
      "```\n",
      "\n",
      "Please save the code to a file named `download_and_plot_stock_prices.py` and then run it. Let me know the result.\n",
      "\n",
      "--------------------------------------------------------------------------------\n",
      "\u001B[31m\n",
      ">>>>>>>> NO HUMAN INPUT RECEIVED.\u001B[0m\n",
      "\u001B[31m\n",
      ">>>>>>>> USING AUTO REPLY...\u001B[0m\n",
      "\u001B[31m\n",
      ">>>>>>>> EXECUTING CODE BLOCK (inferred language is python)...\u001B[0m\n",
      "\u001B[33mcode_executor_agent\u001B[0m (to code_writer_agent):\n",
      "\n",
      "exitcode: 0 (execution succeeded)\n",
      "Code output: \n",
      "[                       0%%                      ]\n",
      "[*********************100%%**********************]  2 of 2 completed\n",
      "Stock prices have been downloaded and plot has been saved to 'stock_prices_YTD_plot.png'.\n",
      "\n",
      "\n",
      "--------------------------------------------------------------------------------\n",
      "\u001B[33mcode_writer_agent\u001B[0m (to code_executor_agent):\n",
      "\n",
      "Great! The script executed successfully, downloaded the stock prices for NVDA and TSLA from 2024-01-01 to 2024-08-01, and created a plot saved as `stock_prices_YTD_plot.png`.\n",
      "\n",
      "You can check the `stock_prices_YTD_plot.png` file to see the plot of the stock prices.\n",
      "\n",
      "TERMINATE\n",
      "\n",
      "--------------------------------------------------------------------------------\n",
      "\u001B[31m\n",
      ">>>>>>>> NO HUMAN INPUT RECEIVED.\u001B[0m\n",
      "\u001B[31m\n",
      ">>>>>>>> USING AUTO REPLY...\u001B[0m\n",
      "\u001B[33mcode_executor_agent\u001B[0m (to code_writer_agent):\n",
      "\n",
      "Please continue. If everything is done, reply 'TERMINATE'.\n",
      "\n",
      "--------------------------------------------------------------------------------\n",
      "\u001B[33mcode_writer_agent\u001B[0m (to code_executor_agent):\n",
      "\n",
      "It appears that all tasks have been successfully completed:\n",
      "\n",
      "1. **Stock prices for NVDA and TSLA were downloaded from 2024-01-01 to 2024-08-01.**\n",
      "2. **The stock prices were plotted and saved to `stock_prices_YTD_plot.png`.**\n",
      "\n",
      "Thus, everything is done as requested.\n",
      "\n",
      "TERMINATE\n",
      "\n",
      "--------------------------------------------------------------------------------\n",
      "\u001B[31m\n",
      ">>>>>>>> NO HUMAN INPUT RECEIVED.\u001B[0m\n",
      "\u001B[31m\n",
      ">>>>>>>> USING AUTO REPLY...\u001B[0m\n",
      "\u001B[33mcode_executor_agent\u001B[0m (to code_writer_agent):\n",
      "\n",
      "Please continue. If everything is done, reply 'TERMINATE'.\n",
      "\n",
      "--------------------------------------------------------------------------------\n",
      "\u001B[33mcode_writer_agent\u001B[0m (to code_executor_agent):\n",
      "\n",
      "It seems everything has been successfully completed as per your request:\n",
      "\n",
      "1. **Stock prices for NVDA and TSLA from 2024-01-01 to 2024-08-01 were downloaded.**\n",
      "2. **The stock prices were plotted and saved to `stock_prices_YTD_plot.png`.**\n",
      "\n",
      "TERMINATE.\n",
      "\n",
      "--------------------------------------------------------------------------------\n",
      "\u001B[33mcode_executor_agent\u001B[0m (to code_writer_agent):\n",
      "\n",
      "TERMINATE\n",
      "\n",
      "--------------------------------------------------------------------------------\n"
     ]
    }
   ],
   "execution_count": 54
  },
  {
   "metadata": {
    "ExecuteTime": {
     "end_time": "2024-08-01T16:40:57.230764Z",
     "start_time": "2024-08-01T16:40:57.223628Z"
    }
   },
   "cell_type": "code",
   "source": "Image(os.path.join(\"coding\", \"stock_prices_YTD_plot.png\"))",
   "id": "7fa4e2ee720e1502",
   "outputs": [
    {
     "data": {
      "image/png": "[encoded data removed]",
      "text/plain": [
       "<IPython.core.display.Image object>"
      ]
     },
     "execution_count": 55,
     "metadata": {},
     "output_type": "execute_result"
    }
   ],
   "execution_count": 55
  },
  {
   "metadata": {},
   "cell_type": "code",
   "outputs": [],
   "execution_count": null,
   "source": "",
   "id": "7fd706f117de3d5"
  }
 ],
 "metadata": {
  "kernelspec": {
   "display_name": "Python 3",
   "language": "python",
   "name": "python3"
  },
  "language_info": {
   "codemirror_mode": {
    "name": "ipython",
    "version": 2
   },
   "file_extension": ".py",
   "mimetype": "text/x-python",
   "name": "python",
   "nbconvert_exporter": "python",
   "pygments_lexer": "ipython2",
   "version": "2.7.6"
  }
 },
 "nbformat": 4,
 "nbformat_minor": 5
}
