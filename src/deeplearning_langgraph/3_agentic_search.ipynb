{
 "cells": [
  {
   "metadata": {
    "ExecuteTime": {
     "end_time": "2024-07-30T18:20:41.983643Z",
     "start_time": "2024-07-30T18:20:41.575591Z"
    }
   },
   "cell_type": "code",
   "source": [
    "# libraries\n",
    "from dotenv import load_dotenv\n",
    "import os\n",
    "from tavily import TavilyClient\n",
    "\n",
    "# load environment variables from .env file\n",
    "_ = load_dotenv()\n",
    "\n",
    "# connect\n",
    "client = TavilyClient(api_key=os.environ.get(\"TAVILY_API_KEY\"))"
   ],
   "id": "508330a1235208de",
   "outputs": [],
   "execution_count": 1
  },
  {
   "metadata": {
    "ExecuteTime": {
     "end_time": "2024-07-30T18:20:56.646633Z",
     "start_time": "2024-07-30T18:20:52.072359Z"
    }
   },
   "cell_type": "code",
   "source": [
    "# run search\n",
    "result = client.search(\"What is in Nvidia's new Blackwell GPU?\",\n",
    "                       include_answer=True)\n",
    "\n",
    "# print the answer\n",
    "result[\"answer\"]"
   ],
   "id": "b437cab5f5ccbdcb",
   "outputs": [
    {
     "data": {
      "text/plain": [
       "\"Nvidia's new Blackwell GPU is designed to significantly enhance AI training performance, offering a 7 to 30 times improvement over the company's previous H100 GPUs. The Blackwell GPU architecture is specifically tailored for datacenter-scale generative AI tasks and features a 208 billion transistor, dual-die design with a 10 TB/s chip-to-chip interconnect. The Blackwell GPUs are part of the GB200 NVL72 server product, which can contain up to 72 Blackwell GPUs interconnected via Nvidia's upgraded NVLink technology for a bidirectional throughput of 1.8TB/s. This new chip is considered by Nvidia as the engine to power the next industrial revolution, as stated by Nvidia CEO Jensen Huang during the chip's introduction at the GTC event.\""
      ]
     },
     "execution_count": 2,
     "metadata": {},
     "output_type": "execute_result"
    }
   ],
   "execution_count": 2
  },
  {
   "metadata": {
    "ExecuteTime": {
     "end_time": "2024-07-30T18:25:04.132810Z",
     "start_time": "2024-07-30T18:25:04.128579Z"
    }
   },
   "cell_type": "code",
   "source": [
    "# choose location (try to change to your own city!)\n",
    "\n",
    "city = \"Caracas\"\n",
    "\n",
    "query = f\"\"\"\n",
    "    what is the current weather in {city}?\n",
    "    Should I travel there today?\n",
    "    \"weather.com\"\n",
    "\"\"\""
   ],
   "id": "6e6b73d39367e4e8",
   "outputs": [],
   "execution_count": 3
  },
  {
   "metadata": {},
   "cell_type": "code",
   "outputs": [],
   "execution_count": null,
   "source": "",
   "id": "b34e63f8e8f20b67"
  }
 ],
 "metadata": {
  "kernelspec": {
   "display_name": "Python 3",
   "language": "python",
   "name": "python3"
  },
  "language_info": {
   "codemirror_mode": {
    "name": "ipython",
    "version": 2
   },
   "file_extension": ".py",
   "mimetype": "text/x-python",
   "name": "python",
   "nbconvert_exporter": "python",
   "pygments_lexer": "ipython2",
   "version": "2.7.6"
  }
 },
 "nbformat": 4,
 "nbformat_minor": 5
}
