{
 "cells": [
  {
   "metadata": {
    "ExecuteTime": {
     "end_time": "2024-07-30T18:41:39.403840Z",
     "start_time": "2024-07-30T18:41:39.387926Z"
    }
   },
   "cell_type": "code",
   "source": [
    "from dotenv import load_dotenv\n",
    "\n",
    "_ = load_dotenv()"
   ],
   "id": "cea57f355e0b7876",
   "outputs": [],
   "execution_count": 1
  },
  {
   "metadata": {
    "ExecuteTime": {
     "end_time": "2024-07-30T18:41:53.323503Z",
     "start_time": "2024-07-30T18:41:51.643528Z"
    }
   },
   "cell_type": "code",
   "source": [
    "from langgraph.graph import StateGraph, END\n",
    "from typing import TypedDict, Annotated\n",
    "import operator\n",
    "from langchain_core.messages import AnyMessage, SystemMessage, HumanMessage, ToolMessage\n",
    "from langchain_openai import ChatOpenAI\n",
    "from langchain_community.tools.tavily_search import TavilySearchResults"
   ],
   "id": "7ddd2900993b9037",
   "outputs": [],
   "execution_count": 2
  },
  {
   "metadata": {
    "ExecuteTime": {
     "end_time": "2024-07-30T18:42:19.376583Z",
     "start_time": "2024-07-30T18:42:19.372890Z"
    }
   },
   "cell_type": "code",
   "source": "tool = TavilySearchResults(max_results=2)",
   "id": "3b133afe98280f1a",
   "outputs": [],
   "execution_count": 3
  },
  {
   "metadata": {
    "ExecuteTime": {
     "end_time": "2024-07-30T18:51:26.749934Z",
     "start_time": "2024-07-30T18:51:26.745954Z"
    }
   },
   "cell_type": "code",
   "source": [
    "class AgentState(TypedDict):\n",
    "    messages: Annotated[list[AnyMessage], operator.add]"
   ],
   "id": "f2a60a8ba69e7e82",
   "outputs": [],
   "execution_count": 4
  },
  {
   "metadata": {
    "ExecuteTime": {
     "end_time": "2024-07-30T18:51:30.368786Z",
     "start_time": "2024-07-30T18:51:30.363386Z"
    }
   },
   "cell_type": "code",
   "source": [
    "from langgraph.checkpoint.sqlite import SqliteSaver\n",
    "\n",
    "memory = SqliteSaver.from_conn_string(\":memory:\")"
   ],
   "id": "7b5205c7436038c4",
   "outputs": [],
   "execution_count": 5
  },
  {
   "metadata": {
    "ExecuteTime": {
     "end_time": "2024-07-30T18:51:41.772596Z",
     "start_time": "2024-07-30T18:51:41.764477Z"
    }
   },
   "cell_type": "code",
   "source": [
    "class Agent:\n",
    "    def __init__(self, model, tools, checkpointer, system=\"\"):\n",
    "        self.system = system\n",
    "        graph = StateGraph(AgentState)\n",
    "        graph.add_node(\"llm\", self.call_openai)\n",
    "        graph.add_node(\"action\", self.take_action)\n",
    "        graph.add_conditional_edges(\"llm\", self.exists_action, {True: \"action\", False: END})\n",
    "        graph.add_edge(\"action\", \"llm\")\n",
    "        graph.set_entry_point(\"llm\")\n",
    "        self.graph = graph.compile(checkpointer=checkpointer)\n",
    "        self.tools = {t.name: t for t in tools}\n",
    "        self.model = model.bind_tools(tools)\n",
    "\n",
    "    def call_openai(self, state: AgentState):\n",
    "        messages = state['messages']\n",
    "        if self.system:\n",
    "            messages = [SystemMessage(content=self.system)] + messages\n",
    "        message = self.model.invoke(messages)\n",
    "        return {'messages': [message]}\n",
    "\n",
    "    def exists_action(self, state: AgentState):\n",
    "        result = state['messages'][-1]\n",
    "        return len(result.tool_calls) > 0\n",
    "\n",
    "    def take_action(self, state: AgentState):\n",
    "        tool_calls = state['messages'][-1].tool_calls\n",
    "        results = []\n",
    "        for t in tool_calls:\n",
    "            print(f\"Calling: {t}\")\n",
    "            result = self.tools[t['name']].invoke(t['args'])\n",
    "            results.append(ToolMessage(tool_call_id=t['id'], name=t['name'], content=str(result)))\n",
    "        print(\"Back to the model!\")\n",
    "        return {'messages': results}"
   ],
   "id": "199c5a4f941fa044",
   "outputs": [],
   "execution_count": 6
  },
  {
   "metadata": {
    "ExecuteTime": {
     "end_time": "2024-07-30T18:53:24.855903Z",
     "start_time": "2024-07-30T18:53:24.566582Z"
    }
   },
   "cell_type": "code",
   "source": [
    "prompt = \"\"\"You are a smart research assistant. Use the search engine to look up information. \\\n",
    "You are allowed to make multiple calls (either together or in sequence). \\\n",
    "Only look up information when you are sure of what you want. \\\n",
    "If you need to look up some information before asking a follow up question, you are allowed to do that!\n",
    "\"\"\"\n",
    "model = ChatOpenAI(model=\"gpt-4o-mini\")\n",
    "abot = Agent(model, [tool], system=prompt, checkpointer=memory)"
   ],
   "id": "242422492460c99",
   "outputs": [],
   "execution_count": 7
  },
  {
   "metadata": {
    "ExecuteTime": {
     "end_time": "2024-07-30T19:03:08.930748Z",
     "start_time": "2024-07-30T19:03:08.926593Z"
    }
   },
   "cell_type": "code",
   "source": "messages = [HumanMessage(content=\"What is the weather in sf?\")]",
   "id": "b5585083eb20b9c3",
   "outputs": [],
   "execution_count": 8
  },
  {
   "metadata": {
    "ExecuteTime": {
     "end_time": "2024-07-30T19:03:16.440611Z",
     "start_time": "2024-07-30T19:03:16.436782Z"
    }
   },
   "cell_type": "code",
   "source": "thread = {\"configurable\": {\"thread_id\": \"1\"}}",
   "id": "be6e20333e244ae7",
   "outputs": [],
   "execution_count": 9
  },
  {
   "metadata": {
    "ExecuteTime": {
     "end_time": "2024-07-30T19:03:32.343643Z",
     "start_time": "2024-07-30T19:03:23.809361Z"
    }
   },
   "cell_type": "code",
   "source": [
    "for event in abot.graph.stream({\"messages\": messages}, thread):\n",
    "    for v in event.values():\n",
    "        print(v['messages'])"
   ],
   "id": "14e73fc8c62983ba",
   "outputs": [
    {
     "name": "stdout",
     "output_type": "stream",
     "text": [
      "[AIMessage(content='', additional_kwargs={'tool_calls': [{'id': 'call_H4gKdvWTYd1fcXkla4DdpH8U', 'function': {'arguments': '{\"query\":\"current weather in San Francisco\"}', 'name': 'tavily_search_results_json'}, 'type': 'function'}]}, response_metadata={'token_usage': {'completion_tokens': 22, 'prompt_tokens': 151, 'total_tokens': 173}, 'model_name': 'gpt-4o-mini-2024-07-18', 'system_fingerprint': 'fp_611b667b19', 'finish_reason': 'tool_calls', 'logprobs': None}, id='run-1b4b536c-933a-473c-bc30-d182da83526f-0', tool_calls=[{'name': 'tavily_search_results_json', 'args': {'query': 'current weather in San Francisco'}, 'id': 'call_H4gKdvWTYd1fcXkla4DdpH8U', 'type': 'tool_call'}], usage_metadata={'input_tokens': 151, 'output_tokens': 22, 'total_tokens': 173})]\n",
      "Calling: {'name': 'tavily_search_results_json', 'args': {'query': 'current weather in San Francisco'}, 'id': 'call_H4gKdvWTYd1fcXkla4DdpH8U', 'type': 'tool_call'}\n",
      "Back to the model!\n",
      "[ToolMessage(content='[{\\'url\\': \\'https://www.weatherapi.com/\\', \\'content\\': \"{\\'location\\': {\\'name\\': \\'San Francisco\\', \\'region\\': \\'California\\', \\'country\\': \\'United States of America\\', \\'lat\\': 37.78, \\'lon\\': -122.42, \\'tz_id\\': \\'America/Los_Angeles\\', \\'localtime_epoch\\': 1722366121, \\'localtime\\': \\'2024-07-30 12:02\\'}, \\'current\\': {\\'last_updated_epoch\\': 1722366000, \\'last_updated\\': \\'2024-07-30 12:00\\', \\'temp_c\\': 17.4, \\'temp_f\\': 63.3, \\'is_day\\': 1, \\'condition\\': {\\'text\\': \\'Sunny\\', \\'icon\\': \\'//cdn.weatherapi.com/weather/64x64/day/113.png\\', \\'code\\': 1000}, \\'wind_mph\\': 9.8, \\'wind_kph\\': 15.8, \\'wind_degree\\': 255, \\'wind_dir\\': \\'WSW\\', \\'pressure_mb\\': 1016.0, \\'pressure_in\\': 30.0, \\'precip_mm\\': 0.0, \\'precip_in\\': 0.0, \\'humidity\\': 82, \\'cloud\\': 16, \\'feelslike_c\\': 17.4, \\'feelslike_f\\': 63.2, \\'windchill_c\\': 17.4, \\'windchill_f\\': 63.2, \\'heatindex_c\\': 17.4, \\'heatindex_f\\': 63.3, \\'dewpoint_c\\': 14.3, \\'dewpoint_f\\': 57.7, \\'vis_km\\': 10.0, \\'vis_miles\\': 6.0, \\'uv\\': 5.0, \\'gust_mph\\': 12.7, \\'gust_kph\\': 20.4}}\"}, {\\'url\\': \\'https://www.weathertab.com/en/c/e/07/united-states/california/san-francisco/\\', \\'content\\': \\'Explore comprehensive July 2024 weather forecasts for San Francisco, including daily high and low temperatures, precipitation risks, and monthly temperature trends. Featuring detailed day-by-day forecasts, dynamic graphs of daily rain probabilities, and temperature trends to help you plan ahead. ... 30 65°F 54°F 18°C 12°C 11% 31 65°F 54°F ...\\'}]', name='tavily_search_results_json', tool_call_id='call_H4gKdvWTYd1fcXkla4DdpH8U')]\n",
      "[AIMessage(content='The current weather in San Francisco is sunny with a temperature of 63.3°F (17.4°C). The wind is blowing from the west-southwest at 9.8 mph (15.8 kph). The humidity is at 82%, and there is no precipitation expected. \\n\\nFor more detailed forecasts, you can check [WeatherAPI](https://www.weatherapi.com/) or [WeatherTab](https://www.weathertab.com/en/c/e/07/united-states/california/san-francisco/).', response_metadata={'token_usage': {'completion_tokens': 112, 'prompt_tokens': 700, 'total_tokens': 812}, 'model_name': 'gpt-4o-mini-2024-07-18', 'system_fingerprint': 'fp_0f03d4f0ee', 'finish_reason': 'stop', 'logprobs': None}, id='run-a36a9db7-c479-4cb2-ba29-301d91f9cc2e-0', usage_metadata={'input_tokens': 700, 'output_tokens': 112, 'total_tokens': 812})]\n"
     ]
    }
   ],
   "execution_count": 10
  },
  {
   "metadata": {
    "ExecuteTime": {
     "end_time": "2024-07-30T19:03:52.662518Z",
     "start_time": "2024-07-30T19:03:46.718005Z"
    }
   },
   "cell_type": "code",
   "source": [
    "messages = [HumanMessage(content=\"What about in la?\")]\n",
    "thread = {\"configurable\": {\"thread_id\": \"1\"}}\n",
    "for event in abot.graph.stream({\"messages\": messages}, thread):\n",
    "    for v in event.values():\n",
    "        print(v)"
   ],
   "id": "21af0424058ca64b",
   "outputs": [
    {
     "name": "stdout",
     "output_type": "stream",
     "text": [
      "{'messages': [AIMessage(content='', additional_kwargs={'tool_calls': [{'id': 'call_Db1BiSrceVnKkL0vewfsuyUP', 'function': {'arguments': '{\"query\":\"current weather in Los Angeles\"}', 'name': 'tavily_search_results_json'}, 'type': 'function'}]}, response_metadata={'token_usage': {'completion_tokens': 22, 'prompt_tokens': 824, 'total_tokens': 846}, 'model_name': 'gpt-4o-mini-2024-07-18', 'system_fingerprint': 'fp_0f03d4f0ee', 'finish_reason': 'tool_calls', 'logprobs': None}, id='run-f4109694-abb1-4300-b1ca-a4772c53305d-0', tool_calls=[{'name': 'tavily_search_results_json', 'args': {'query': 'current weather in Los Angeles'}, 'id': 'call_Db1BiSrceVnKkL0vewfsuyUP', 'type': 'tool_call'}], usage_metadata={'input_tokens': 824, 'output_tokens': 22, 'total_tokens': 846})]}\n",
      "Calling: {'name': 'tavily_search_results_json', 'args': {'query': 'current weather in Los Angeles'}, 'id': 'call_Db1BiSrceVnKkL0vewfsuyUP', 'type': 'tool_call'}\n",
      "Back to the model!\n",
      "{'messages': [ToolMessage(content='[{\\'url\\': \\'https://www.weatherapi.com/\\', \\'content\\': \"{\\'location\\': {\\'name\\': \\'Los Angeles\\', \\'region\\': \\'California\\', \\'country\\': \\'United States of America\\', \\'lat\\': 34.05, \\'lon\\': -118.24, \\'tz_id\\': \\'America/Los_Angeles\\', \\'localtime_epoch\\': 1722366143, \\'localtime\\': \\'2024-07-30 12:02\\'}, \\'current\\': {\\'last_updated_epoch\\': 1722366000, \\'last_updated\\': \\'2024-07-30 12:00\\', \\'temp_c\\': 28.4, \\'temp_f\\': 83.2, \\'is_day\\': 1, \\'condition\\': {\\'text\\': \\'Sunny\\', \\'icon\\': \\'//cdn.weatherapi.com/weather/64x64/day/113.png\\', \\'code\\': 1000}, \\'wind_mph\\': 6.9, \\'wind_kph\\': 11.2, \\'wind_degree\\': 215, \\'wind_dir\\': \\'SW\\', \\'pressure_mb\\': 1013.0, \\'pressure_in\\': 29.91, \\'precip_mm\\': 0.0, \\'precip_in\\': 0.0, \\'humidity\\': 27, \\'cloud\\': 0, \\'feelslike_c\\': 27.2, \\'feelslike_f\\': 81.0, \\'windchill_c\\': 28.4, \\'windchill_f\\': 83.2, \\'heatindex_c\\': 27.2, \\'heatindex_f\\': 81.0, \\'dewpoint_c\\': 7.7, \\'dewpoint_f\\': 45.8, \\'vis_km\\': 10.0, \\'vis_miles\\': 6.0, \\'uv\\': 7.0, \\'gust_mph\\': 8.0, \\'gust_kph\\': 12.9}}\"}, {\\'url\\': \\'https://www.weather.gov/lox/\\', \\'content\\': \\'Current Hazards. Daily Briefing; Latest Hazard Listing; Current Outlooks ... Sun, Jul 28, 2024 at 3:04:09 am PDT Watches, Warnings & Advisories. Zoom Out. Red Flag Warning. Small Craft Advisory . Text Product Selector (Selected product opens in current window) ... National Weather Service Los Angeles, CA 520 North Elevar Street Oxnard, CA 93030 ...\\'}]', name='tavily_search_results_json', tool_call_id='call_Db1BiSrceVnKkL0vewfsuyUP')]}\n",
      "{'messages': [AIMessage(content='The current weather in Los Angeles is sunny with a temperature of 83.2°F (28.4°C). The wind is blowing from the southwest at 6.9 mph (11.2 kph). The humidity is quite low at 27%, and there is no precipitation expected.\\n\\nFor more details, you can check [WeatherAPI](https://www.weatherapi.com/) or the [National Weather Service](https://www.weather.gov/lox/).', response_metadata={'token_usage': {'completion_tokens': 94, 'prompt_tokens': 1364, 'total_tokens': 1458}, 'model_name': 'gpt-4o-mini-2024-07-18', 'system_fingerprint': 'fp_0f03d4f0ee', 'finish_reason': 'stop', 'logprobs': None}, id='run-a043685f-8472-4062-a38f-61a080ed21ae-0', usage_metadata={'input_tokens': 1364, 'output_tokens': 94, 'total_tokens': 1458})]}\n"
     ]
    }
   ],
   "execution_count": 11
  },
  {
   "metadata": {
    "ExecuteTime": {
     "end_time": "2024-07-30T19:04:18.120509Z",
     "start_time": "2024-07-30T19:04:16.669497Z"
    }
   },
   "cell_type": "code",
   "source": [
    "messages = [HumanMessage(content=\"Which one is warmer?\")]\n",
    "thread = {\"configurable\": {\"thread_id\": \"1\"}}\n",
    "for event in abot.graph.stream({\"messages\": messages}, thread):\n",
    "    for v in event.values():\n",
    "        print(v)"
   ],
   "id": "8d3e3289270ecaee",
   "outputs": [
    {
     "name": "stdout",
     "output_type": "stream",
     "text": [
      "{'messages': [AIMessage(content='Los Angeles is warmer than San Francisco. The current temperature in Los Angeles is 83.2°F (28.4°C), while in San Francisco, it is 63.3°F (17.4°C).', response_metadata={'token_usage': {'completion_tokens': 45, 'prompt_tokens': 1470, 'total_tokens': 1515}, 'model_name': 'gpt-4o-mini-2024-07-18', 'system_fingerprint': 'fp_0f03d4f0ee', 'finish_reason': 'stop', 'logprobs': None}, id='run-b04bb642-d9a1-4fe2-abd1-689782702d3c-0', usage_metadata={'input_tokens': 1470, 'output_tokens': 45, 'total_tokens': 1515})]}\n"
     ]
    }
   ],
   "execution_count": 12
  },
  {
   "metadata": {
    "ExecuteTime": {
     "end_time": "2024-07-30T19:04:35.226988Z",
     "start_time": "2024-07-30T19:04:34.211401Z"
    }
   },
   "cell_type": "code",
   "source": [
    "messages = [HumanMessage(content=\"Which one is warmer?\")]\n",
    "thread = {\"configurable\": {\"thread_id\": \"2\"}}\n",
    "for event in abot.graph.stream({\"messages\": messages}, thread):\n",
    "    for v in event.values():\n",
    "        print(v)"
   ],
   "id": "af391e962e216f80",
   "outputs": [
    {
     "name": "stdout",
     "output_type": "stream",
     "text": [
      "{'messages': [AIMessage(content='Could you please specify what two things you would like to compare in terms of warmth?', response_metadata={'token_usage': {'completion_tokens': 18, 'prompt_tokens': 149, 'total_tokens': 167}, 'model_name': 'gpt-4o-mini-2024-07-18', 'system_fingerprint': 'fp_0f03d4f0ee', 'finish_reason': 'stop', 'logprobs': None}, id='run-7ce16150-f91b-4789-894a-1a10c08134d5-0', usage_metadata={'input_tokens': 149, 'output_tokens': 18, 'total_tokens': 167})]}\n"
     ]
    }
   ],
   "execution_count": 13
  },
  {
   "metadata": {},
   "cell_type": "markdown",
   "source": "### Streaming tokens",
   "id": "cd3d40ca30fdc67c"
  },
  {
   "metadata": {
    "ExecuteTime": {
     "end_time": "2024-07-30T19:07:26.447110Z",
     "start_time": "2024-07-30T19:07:26.434894Z"
    }
   },
   "cell_type": "code",
   "source": [
    "from langgraph.checkpoint.aiosqlite import AsyncSqliteSaver\n",
    "\n",
    "memory = AsyncSqliteSaver.from_conn_string(\":memory:\")\n",
    "abot = Agent(model, [tool], system=prompt, checkpointer=memory)"
   ],
   "id": "cc11683040674a28",
   "outputs": [],
   "execution_count": 15
  },
  {
   "metadata": {
    "ExecuteTime": {
     "end_time": "2024-07-30T19:09:38.922984Z",
     "start_time": "2024-07-30T19:09:32.822648Z"
    }
   },
   "cell_type": "code",
   "source": [
    "messages = [HumanMessage(content=\"What is the weather in SF?\")]\n",
    "thread = {\"configurable\": {\"thread_id\": \"4\"}}\n",
    "async for event in abot.graph.astream_events({\"messages\": messages}, thread, version=\"v1\"):\n",
    "    kind = event[\"event\"]\n",
    "    if kind == \"on_chat_model_stream\":\n",
    "        content = event[\"data\"][\"chunk\"].content\n",
    "        if content:\n",
    "            # Empty content in the context of OpenAI means\n",
    "            # that the model is asking for a tool to be invoked.\n",
    "            # So we only print non-empty content\n",
    "            print(content, end=\"|\")"
   ],
   "id": "f362af8b635dd3af",
   "outputs": [
    {
     "name": "stderr",
     "output_type": "stream",
     "text": [
      "/Users/danielboza/Documents/Projects/langgraph-experiments/.venv/lib/python3.11/site-packages/langchain_core/_api/beta_decorator.py:87: LangChainBetaWarning: This API is in beta and may change in the future.\n",
      "  warn_beta(\n"
     ]
    },
    {
     "name": "stdout",
     "output_type": "stream",
     "text": [
      "Calling: {'name': 'tavily_search_results_json', 'args': {'query': 'current weather San Francisco'}, 'id': 'call_wP0YgorPgCxswhg3hAUkhb2H', 'type': 'tool_call'}\n",
      "Back to the model!\n",
      "The| current| weather| in| San| Francisco| is| as| follows|:\n",
      "\n",
      "|-| **|Temperature|**|:| |17|.|4|°C| (|63|.|3|°F|)\n",
      "|-| **|Condition|**|:| Sunny|\n",
      "|-| **|Wind|**|:| |9|.|8| mph| (|15|.|8| k|ph|)| coming| from| the| west|-s|outh|west|\n",
      "|-| **|Humidity|**|:| |82|%\n",
      "|-| **|Visibility|**|:| |10| km|\n",
      "|-| **|Pressure|**|:| |101|6| mb|\n",
      "\n",
      "|It| is| currently| daytime| in| San| Francisco|,| and| there| is| no| precipitation| reported|.| \n",
      "\n",
      "|For| more| details|,| you| can| check| the| full| report| on| [|Weather| API|](|https|://|www|.weather|api|.com|/|).|"
     ]
    }
   ],
   "execution_count": 16
  },
  {
   "metadata": {},
   "cell_type": "code",
   "outputs": [],
   "execution_count": null,
   "source": "",
   "id": "d7aeae4ab0f06a97"
  }
 ],
 "metadata": {
  "kernelspec": {
   "display_name": "Python 3",
   "language": "python",
   "name": "python3"
  },
  "language_info": {
   "codemirror_mode": {
    "name": "ipython",
    "version": 2
   },
   "file_extension": ".py",
   "mimetype": "text/x-python",
   "name": "python",
   "nbconvert_exporter": "python",
   "pygments_lexer": "ipython2",
   "version": "2.7.6"
  }
 },
 "nbformat": 4,
 "nbformat_minor": 5
}
