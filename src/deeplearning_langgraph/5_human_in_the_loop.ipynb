{
 "cells": [
  {
   "cell_type": "code",
   "execution_count": null,
   "id": "initial_id",
   "metadata": {
    "collapsed": true
   },
   "outputs": [],
   "source": [
    ""
   ]
  },
  {
   "metadata": {
    "ExecuteTime": {
     "end_time": "2024-07-30T20:45:34.125229Z",
     "start_time": "2024-07-30T20:45:34.107707Z"
    }
   },
   "cell_type": "code",
   "source": [
    "from dotenv import load_dotenv\n",
    "\n",
    "_ = load_dotenv()"
   ],
   "id": "e4520b5b6cd11732",
   "outputs": [],
   "execution_count": 1
  },
  {
   "metadata": {
    "ExecuteTime": {
     "end_time": "2024-07-30T20:45:40.867112Z",
     "start_time": "2024-07-30T20:45:39.131719Z"
    }
   },
   "cell_type": "code",
   "source": [
    "from langgraph.graph import StateGraph, END\n",
    "from typing import TypedDict, Annotated\n",
    "import operator\n",
    "from langchain_core.messages import AnyMessage, SystemMessage, HumanMessage, ToolMessage\n",
    "from langchain_openai import ChatOpenAI\n",
    "from langchain_community.tools.tavily_search import TavilySearchResults\n",
    "from langgraph.checkpoint.sqlite import SqliteSaver\n",
    "\n",
    "memory = SqliteSaver.from_conn_string(\":memory:\")"
   ],
   "id": "331ea21babfcd034",
   "outputs": [],
   "execution_count": 2
  },
  {
   "metadata": {
    "ExecuteTime": {
     "end_time": "2024-07-30T20:45:59.481886Z",
     "start_time": "2024-07-30T20:45:59.473899Z"
    }
   },
   "cell_type": "code",
   "source": [
    "from uuid import uuid4\n",
    "from langchain_core.messages import AnyMessage, SystemMessage, HumanMessage, AIMessage\n",
    "\n",
    "\"\"\"\n",
    "In previous examples we've annotated the `messages` state key\n",
    "with the default `operator.add` or `+` reducer, which always\n",
    "appends new messages to the end of the existing messages array.\n",
    "\n",
    "Now, to support replacing existing messages, we annotate the\n",
    "`messages` key with a customer reducer function, which replaces\n",
    "messages with the same `id`, and appends them otherwise.\n",
    "\"\"\"\n",
    "def reduce_messages(left: list[AnyMessage], right: list[AnyMessage]) -> list[AnyMessage]:\n",
    "    # assign ids to messages that don't have them\n",
    "    for message in right:\n",
    "        if not message.id:\n",
    "            message.id = str(uuid4())\n",
    "    # merge the new messages with the existing messages\n",
    "    merged = left.copy()\n",
    "    for message in right:\n",
    "        for i, existing in enumerate(merged):\n",
    "            # replace any existing messages with the same id\n",
    "            if existing.id == message.id:\n",
    "                merged[i] = message\n",
    "                break\n",
    "        else:\n",
    "            # append any new messages to the end\n",
    "            merged.append(message)\n",
    "    return merged\n",
    "\n",
    "class AgentState(TypedDict):\n",
    "    messages: Annotated[list[AnyMessage], reduce_messages]"
   ],
   "id": "72eada0ebbdc4dab",
   "outputs": [],
   "execution_count": 3
  },
  {
   "metadata": {
    "ExecuteTime": {
     "end_time": "2024-07-30T20:47:59.846446Z",
     "start_time": "2024-07-30T20:47:59.842349Z"
    }
   },
   "cell_type": "code",
   "source": "tool = TavilySearchResults(max_results=2)",
   "id": "3f575691c997f98d",
   "outputs": [],
   "execution_count": 4
  },
  {
   "metadata": {},
   "cell_type": "markdown",
   "source": "## Manual human approval",
   "id": "831f33b4ab4d2a24"
  },
  {
   "metadata": {
    "ExecuteTime": {
     "end_time": "2024-07-30T20:49:47.913203Z",
     "start_time": "2024-07-30T20:49:47.904805Z"
    }
   },
   "cell_type": "code",
   "source": [
    "class Agent:\n",
    "    def __init__(self, model, tools, system=\"\", checkpointer=None):\n",
    "        self.system = system\n",
    "        graph = StateGraph(AgentState)\n",
    "        graph.add_node(\"llm\", self.call_openai)\n",
    "        graph.add_node(\"action\", self.take_action)\n",
    "        graph.add_conditional_edges(\"llm\", self.exists_action, {True: \"action\", False: END})\n",
    "        graph.add_edge(\"action\", \"llm\")\n",
    "        graph.set_entry_point(\"llm\")\n",
    "        self.graph = graph.compile(\n",
    "            checkpointer=checkpointer,\n",
    "            interrupt_before=[\"action\"]\n",
    "        )\n",
    "        self.tools = {t.name: t for t in tools}\n",
    "        self.model = model.bind_tools(tools)\n",
    "\n",
    "    def call_openai(self, state: AgentState):\n",
    "        messages = state['messages']\n",
    "        if self.system:\n",
    "            messages = [SystemMessage(content=self.system)] + messages\n",
    "        message = self.model.invoke(messages)\n",
    "        return {'messages': [message]}\n",
    "\n",
    "    def exists_action(self, state: AgentState):\n",
    "        print(state)\n",
    "        result = state['messages'][-1]\n",
    "        return len(result.tool_calls) > 0\n",
    "\n",
    "    def take_action(self, state: AgentState):\n",
    "        tool_calls = state['messages'][-1].tool_calls\n",
    "        results = []\n",
    "        for t in tool_calls:\n",
    "            print(f\"Calling: {t}\")\n",
    "            result = self.tools[t['name']].invoke(t['args'])\n",
    "            results.append(ToolMessage(tool_call_id=t['id'], name=t['name'], content=str(result)))\n",
    "        print(\"Back to the model!\")\n",
    "        return {'messages': results}"
   ],
   "id": "941d0369924124a6",
   "outputs": [],
   "execution_count": 5
  },
  {
   "metadata": {
    "ExecuteTime": {
     "end_time": "2024-07-30T20:50:51.430442Z",
     "start_time": "2024-07-30T20:50:51.108362Z"
    }
   },
   "cell_type": "code",
   "source": [
    "prompt = \"\"\"You are a smart research assistant. Use the search engine to look up information. \\\n",
    "You are allowed to make multiple calls (either together or in sequence). \\\n",
    "Only look up information when you are sure of what you want. \\\n",
    "If you need to look up some information before asking a follow up question, you are allowed to do that!\n",
    "\"\"\"\n",
    "model = ChatOpenAI(model=\"gpt-4o-mini\")\n",
    "abot = Agent(model, [tool], system=prompt, checkpointer=memory)"
   ],
   "id": "ed4edc31be8bbd32",
   "outputs": [],
   "execution_count": 6
  },
  {
   "metadata": {
    "ExecuteTime": {
     "end_time": "2024-07-30T20:52:13.187387Z",
     "start_time": "2024-07-30T20:52:11.580202Z"
    }
   },
   "cell_type": "code",
   "source": [
    "messages = [HumanMessage(content=\"Whats the weather in SF?\")]\n",
    "thread = {\"configurable\": {\"thread_id\": \"1\"}}\n",
    "for event in abot.graph.stream({\"messages\": messages}, thread):\n",
    "    for v in event.values():\n",
    "        print(v)"
   ],
   "id": "256c0c0b8d710486",
   "outputs": [
    {
     "name": "stdout",
     "output_type": "stream",
     "text": [
      "{'messages': [HumanMessage(content='Whats the weather in SF?', id='6621122a-2318-4d19-9fff-2bb67bda6b1d'), AIMessage(content='', additional_kwargs={'tool_calls': [{'id': 'call_x2fv2SuB7Ai5AwuMwJJvjSif', 'function': {'arguments': '{\"query\":\"San Francisco weather\"}', 'name': 'tavily_search_results_json'}, 'type': 'function'}]}, response_metadata={'token_usage': {'completion_tokens': 20, 'prompt_tokens': 150, 'total_tokens': 170}, 'model_name': 'gpt-4o-mini-2024-07-18', 'system_fingerprint': 'fp_0f03d4f0ee', 'finish_reason': 'tool_calls', 'logprobs': None}, id='run-35bdbadb-be16-4202-bd85-85207c0699a6-0', tool_calls=[{'name': 'tavily_search_results_json', 'args': {'query': 'San Francisco weather'}, 'id': 'call_x2fv2SuB7Ai5AwuMwJJvjSif', 'type': 'tool_call'}], usage_metadata={'input_tokens': 150, 'output_tokens': 20, 'total_tokens': 170})]}\n",
      "{'messages': [AIMessage(content='', additional_kwargs={'tool_calls': [{'id': 'call_x2fv2SuB7Ai5AwuMwJJvjSif', 'function': {'arguments': '{\"query\":\"San Francisco weather\"}', 'name': 'tavily_search_results_json'}, 'type': 'function'}]}, response_metadata={'token_usage': {'completion_tokens': 20, 'prompt_tokens': 150, 'total_tokens': 170}, 'model_name': 'gpt-4o-mini-2024-07-18', 'system_fingerprint': 'fp_0f03d4f0ee', 'finish_reason': 'tool_calls', 'logprobs': None}, id='run-35bdbadb-be16-4202-bd85-85207c0699a6-0', tool_calls=[{'name': 'tavily_search_results_json', 'args': {'query': 'San Francisco weather'}, 'id': 'call_x2fv2SuB7Ai5AwuMwJJvjSif', 'type': 'tool_call'}], usage_metadata={'input_tokens': 150, 'output_tokens': 20, 'total_tokens': 170})]}\n"
     ]
    }
   ],
   "execution_count": 7
  },
  {
   "metadata": {
    "ExecuteTime": {
     "end_time": "2024-07-30T20:53:11.335180Z",
     "start_time": "2024-07-30T20:53:11.323613Z"
    }
   },
   "cell_type": "code",
   "source": "abot.graph.get_state(thread)",
   "id": "57dee6193b57fdda",
   "outputs": [
    {
     "data": {
      "text/plain": [
       "StateSnapshot(values={'messages': [HumanMessage(content='Whats the weather in SF?', id='6621122a-2318-4d19-9fff-2bb67bda6b1d'), AIMessage(content='', additional_kwargs={'tool_calls': [{'id': 'call_x2fv2SuB7Ai5AwuMwJJvjSif', 'function': {'arguments': '{\"query\":\"San Francisco weather\"}', 'name': 'tavily_search_results_json'}, 'type': 'function'}]}, response_metadata={'token_usage': {'completion_tokens': 20, 'prompt_tokens': 150, 'total_tokens': 170}, 'model_name': 'gpt-4o-mini-2024-07-18', 'system_fingerprint': 'fp_0f03d4f0ee', 'finish_reason': 'tool_calls', 'logprobs': None}, id='run-35bdbadb-be16-4202-bd85-85207c0699a6-0', tool_calls=[{'name': 'tavily_search_results_json', 'args': {'query': 'San Francisco weather'}, 'id': 'call_x2fv2SuB7Ai5AwuMwJJvjSif', 'type': 'tool_call'}], usage_metadata={'input_tokens': 150, 'output_tokens': 20, 'total_tokens': 170})]}, next=('action',), config={'configurable': {'thread_id': '1', 'thread_ts': '1ef4eb59-8d3b-6f02-8001-d25675bce7db'}}, metadata={'source': 'loop', 'writes': {'llm': {'messages': [AIMessage(content='', additional_kwargs={'tool_calls': [{'id': 'call_x2fv2SuB7Ai5AwuMwJJvjSif', 'function': {'arguments': '{\"query\":\"San Francisco weather\"}', 'name': 'tavily_search_results_json'}, 'type': 'function'}]}, response_metadata={'token_usage': {'completion_tokens': 20, 'prompt_tokens': 150, 'total_tokens': 170}, 'model_name': 'gpt-4o-mini-2024-07-18', 'system_fingerprint': 'fp_0f03d4f0ee', 'finish_reason': 'tool_calls', 'logprobs': None}, id='run-35bdbadb-be16-4202-bd85-85207c0699a6-0', tool_calls=[{'name': 'tavily_search_results_json', 'args': {'query': 'San Francisco weather'}, 'id': 'call_x2fv2SuB7Ai5AwuMwJJvjSif', 'type': 'tool_call'}], usage_metadata={'input_tokens': 150, 'output_tokens': 20, 'total_tokens': 170})]}}, 'step': 1}, created_at='2024-07-30T20:52:13.183539+00:00', parent_config={'configurable': {'thread_id': '1', 'thread_ts': '1ef4eb59-7ec0-60f4-8000-6dab402207cd'}})"
      ]
     },
     "execution_count": 8,
     "metadata": {},
     "output_type": "execute_result"
    }
   ],
   "execution_count": 8
  },
  {
   "metadata": {
    "ExecuteTime": {
     "end_time": "2024-07-30T20:54:25.368434Z",
     "start_time": "2024-07-30T20:54:25.362547Z"
    }
   },
   "cell_type": "code",
   "source": "abot.graph.get_state(thread).next",
   "id": "d769f5be89a320ed",
   "outputs": [
    {
     "data": {
      "text/plain": [
       "('action',)"
      ]
     },
     "execution_count": 9,
     "metadata": {},
     "output_type": "execute_result"
    }
   ],
   "execution_count": 9
  },
  {
   "metadata": {},
   "cell_type": "markdown",
   "source": "### continue after interrupt",
   "id": "54c616398d33bcaf"
  },
  {
   "metadata": {
    "ExecuteTime": {
     "end_time": "2024-07-30T20:56:51.928402Z",
     "start_time": "2024-07-30T20:56:47.239855Z"
    }
   },
   "cell_type": "code",
   "source": [
    "for event in abot.graph.stream(None, thread):\n",
    "    for v in event.values():\n",
    "        print(v)"
   ],
   "id": "8d5ecf074b9df1f2",
   "outputs": [
    {
     "name": "stdout",
     "output_type": "stream",
     "text": [
      "Calling: {'name': 'tavily_search_results_json', 'args': {'query': 'San Francisco weather'}, 'id': 'call_x2fv2SuB7Ai5AwuMwJJvjSif', 'type': 'tool_call'}\n",
      "Back to the model!\n",
      "{'messages': [ToolMessage(content='[{\\'url\\': \\'https://www.weatherapi.com/\\', \\'content\\': \"{\\'location\\': {\\'name\\': \\'San Francisco\\', \\'region\\': \\'California\\', \\'country\\': \\'United States of America\\', \\'lat\\': 37.78, \\'lon\\': -122.42, \\'tz_id\\': \\'America/Los_Angeles\\', \\'localtime_epoch\\': 1722372922, \\'localtime\\': \\'2024-07-30 13:55\\'}, \\'current\\': {\\'last_updated_epoch\\': 1722372300, \\'last_updated\\': \\'2024-07-30 13:45\\', \\'temp_c\\': 18.0, \\'temp_f\\': 64.4, \\'is_day\\': 1, \\'condition\\': {\\'text\\': \\'Sunny\\', \\'icon\\': \\'//cdn.weatherapi.com/weather/64x64/day/113.png\\', \\'code\\': 1000}, \\'wind_mph\\': 11.0, \\'wind_kph\\': 17.6, \\'wind_degree\\': 257, \\'wind_dir\\': \\'WSW\\', \\'pressure_mb\\': 1015.0, \\'pressure_in\\': 29.99, \\'precip_mm\\': 0.0, \\'precip_in\\': 0.0, \\'humidity\\': 79, \\'cloud\\': 5, \\'feelslike_c\\': 18.0, \\'feelslike_f\\': 64.4, \\'windchill_c\\': 18.0, \\'windchill_f\\': 64.4, \\'heatindex_c\\': 18.0, \\'heatindex_f\\': 64.4, \\'dewpoint_c\\': 14.4, \\'dewpoint_f\\': 57.9, \\'vis_km\\': 10.0, \\'vis_miles\\': 6.0, \\'uv\\': 5.0, \\'gust_mph\\': 13.9, \\'gust_kph\\': 22.4}}\"}, {\\'url\\': \\'https://www.weathertab.com/en/c/e/07/united-states/california/san-francisco/\\', \\'content\\': \\'Explore comprehensive July 2024 weather forecasts for San Francisco, including daily high and low temperatures, precipitation risks, and monthly temperature trends. Featuring detailed day-by-day forecasts, dynamic graphs of daily rain probabilities, and temperature trends to help you plan ahead. ... 30 65°F 54°F 18°C 12°C 11% 31 65°F 54°F ...\\'}]', name='tavily_search_results_json', tool_call_id='call_x2fv2SuB7Ai5AwuMwJJvjSif')]}\n",
      "{'messages': [HumanMessage(content='Whats the weather in SF?', id='6621122a-2318-4d19-9fff-2bb67bda6b1d'), AIMessage(content='', additional_kwargs={'tool_calls': [{'id': 'call_x2fv2SuB7Ai5AwuMwJJvjSif', 'function': {'arguments': '{\"query\":\"San Francisco weather\"}', 'name': 'tavily_search_results_json'}, 'type': 'function'}]}, response_metadata={'token_usage': {'completion_tokens': 20, 'prompt_tokens': 150, 'total_tokens': 170}, 'model_name': 'gpt-4o-mini-2024-07-18', 'system_fingerprint': 'fp_0f03d4f0ee', 'finish_reason': 'tool_calls', 'logprobs': None}, id='run-35bdbadb-be16-4202-bd85-85207c0699a6-0', tool_calls=[{'name': 'tavily_search_results_json', 'args': {'query': 'San Francisco weather'}, 'id': 'call_x2fv2SuB7Ai5AwuMwJJvjSif', 'type': 'tool_call'}], usage_metadata={'input_tokens': 150, 'output_tokens': 20, 'total_tokens': 170}), ToolMessage(content='[{\\'url\\': \\'https://www.weatherapi.com/\\', \\'content\\': \"{\\'location\\': {\\'name\\': \\'San Francisco\\', \\'region\\': \\'California\\', \\'country\\': \\'United States of America\\', \\'lat\\': 37.78, \\'lon\\': -122.42, \\'tz_id\\': \\'America/Los_Angeles\\', \\'localtime_epoch\\': 1722372922, \\'localtime\\': \\'2024-07-30 13:55\\'}, \\'current\\': {\\'last_updated_epoch\\': 1722372300, \\'last_updated\\': \\'2024-07-30 13:45\\', \\'temp_c\\': 18.0, \\'temp_f\\': 64.4, \\'is_day\\': 1, \\'condition\\': {\\'text\\': \\'Sunny\\', \\'icon\\': \\'//cdn.weatherapi.com/weather/64x64/day/113.png\\', \\'code\\': 1000}, \\'wind_mph\\': 11.0, \\'wind_kph\\': 17.6, \\'wind_degree\\': 257, \\'wind_dir\\': \\'WSW\\', \\'pressure_mb\\': 1015.0, \\'pressure_in\\': 29.99, \\'precip_mm\\': 0.0, \\'precip_in\\': 0.0, \\'humidity\\': 79, \\'cloud\\': 5, \\'feelslike_c\\': 18.0, \\'feelslike_f\\': 64.4, \\'windchill_c\\': 18.0, \\'windchill_f\\': 64.4, \\'heatindex_c\\': 18.0, \\'heatindex_f\\': 64.4, \\'dewpoint_c\\': 14.4, \\'dewpoint_f\\': 57.9, \\'vis_km\\': 10.0, \\'vis_miles\\': 6.0, \\'uv\\': 5.0, \\'gust_mph\\': 13.9, \\'gust_kph\\': 22.4}}\"}, {\\'url\\': \\'https://www.weathertab.com/en/c/e/07/united-states/california/san-francisco/\\', \\'content\\': \\'Explore comprehensive July 2024 weather forecasts for San Francisco, including daily high and low temperatures, precipitation risks, and monthly temperature trends. Featuring detailed day-by-day forecasts, dynamic graphs of daily rain probabilities, and temperature trends to help you plan ahead. ... 30 65°F 54°F 18°C 12°C 11% 31 65°F 54°F ...\\'}]', name='tavily_search_results_json', id='38f8bc45-5f3e-4d0c-afad-4375db288eac', tool_call_id='call_x2fv2SuB7Ai5AwuMwJJvjSif'), AIMessage(content='The current weather in San Francisco is sunny with a temperature of 64.4°F (18.0°C). The wind is coming from the west-southwest at 11 mph (17.6 kph), and the humidity is at 79%. There is no precipitation reported.\\n\\nFor more details, you can check [WeatherAPI](https://www.weatherapi.com/) or [WeatherTab](https://www.weathertab.com/en/c/e/07/united-states/california/san-francisco/).', response_metadata={'token_usage': {'completion_tokens': 108, 'prompt_tokens': 697, 'total_tokens': 805}, 'model_name': 'gpt-4o-mini-2024-07-18', 'system_fingerprint': 'fp_0f03d4f0ee', 'finish_reason': 'stop', 'logprobs': None}, id='run-1b48d08e-79a0-4200-8a9f-bc4d3ca95f17-0', usage_metadata={'input_tokens': 697, 'output_tokens': 108, 'total_tokens': 805})]}\n",
      "{'messages': [AIMessage(content='The current weather in San Francisco is sunny with a temperature of 64.4°F (18.0°C). The wind is coming from the west-southwest at 11 mph (17.6 kph), and the humidity is at 79%. There is no precipitation reported.\\n\\nFor more details, you can check [WeatherAPI](https://www.weatherapi.com/) or [WeatherTab](https://www.weathertab.com/en/c/e/07/united-states/california/san-francisco/).', response_metadata={'token_usage': {'completion_tokens': 108, 'prompt_tokens': 697, 'total_tokens': 805}, 'model_name': 'gpt-4o-mini-2024-07-18', 'system_fingerprint': 'fp_0f03d4f0ee', 'finish_reason': 'stop', 'logprobs': None}, id='run-1b48d08e-79a0-4200-8a9f-bc4d3ca95f17-0', usage_metadata={'input_tokens': 697, 'output_tokens': 108, 'total_tokens': 805})]}\n"
     ]
    }
   ],
   "execution_count": 10
  },
  {
   "metadata": {
    "ExecuteTime": {
     "end_time": "2024-07-30T20:57:59.629730Z",
     "start_time": "2024-07-30T20:57:59.623197Z"
    }
   },
   "cell_type": "code",
   "source": "abot.graph.get_state(thread)",
   "id": "12b1624dd3e77580",
   "outputs": [
    {
     "data": {
      "text/plain": [
       "StateSnapshot(values={'messages': [HumanMessage(content='Whats the weather in SF?', id='6621122a-2318-4d19-9fff-2bb67bda6b1d'), AIMessage(content='', additional_kwargs={'tool_calls': [{'id': 'call_x2fv2SuB7Ai5AwuMwJJvjSif', 'function': {'arguments': '{\"query\":\"San Francisco weather\"}', 'name': 'tavily_search_results_json'}, 'type': 'function'}]}, response_metadata={'token_usage': {'completion_tokens': 20, 'prompt_tokens': 150, 'total_tokens': 170}, 'model_name': 'gpt-4o-mini-2024-07-18', 'system_fingerprint': 'fp_0f03d4f0ee', 'finish_reason': 'tool_calls', 'logprobs': None}, id='run-35bdbadb-be16-4202-bd85-85207c0699a6-0', tool_calls=[{'name': 'tavily_search_results_json', 'args': {'query': 'San Francisco weather'}, 'id': 'call_x2fv2SuB7Ai5AwuMwJJvjSif', 'type': 'tool_call'}], usage_metadata={'input_tokens': 150, 'output_tokens': 20, 'total_tokens': 170}), ToolMessage(content='[{\\'url\\': \\'https://www.weatherapi.com/\\', \\'content\\': \"{\\'location\\': {\\'name\\': \\'San Francisco\\', \\'region\\': \\'California\\', \\'country\\': \\'United States of America\\', \\'lat\\': 37.78, \\'lon\\': -122.42, \\'tz_id\\': \\'America/Los_Angeles\\', \\'localtime_epoch\\': 1722372922, \\'localtime\\': \\'2024-07-30 13:55\\'}, \\'current\\': {\\'last_updated_epoch\\': 1722372300, \\'last_updated\\': \\'2024-07-30 13:45\\', \\'temp_c\\': 18.0, \\'temp_f\\': 64.4, \\'is_day\\': 1, \\'condition\\': {\\'text\\': \\'Sunny\\', \\'icon\\': \\'//cdn.weatherapi.com/weather/64x64/day/113.png\\', \\'code\\': 1000}, \\'wind_mph\\': 11.0, \\'wind_kph\\': 17.6, \\'wind_degree\\': 257, \\'wind_dir\\': \\'WSW\\', \\'pressure_mb\\': 1015.0, \\'pressure_in\\': 29.99, \\'precip_mm\\': 0.0, \\'precip_in\\': 0.0, \\'humidity\\': 79, \\'cloud\\': 5, \\'feelslike_c\\': 18.0, \\'feelslike_f\\': 64.4, \\'windchill_c\\': 18.0, \\'windchill_f\\': 64.4, \\'heatindex_c\\': 18.0, \\'heatindex_f\\': 64.4, \\'dewpoint_c\\': 14.4, \\'dewpoint_f\\': 57.9, \\'vis_km\\': 10.0, \\'vis_miles\\': 6.0, \\'uv\\': 5.0, \\'gust_mph\\': 13.9, \\'gust_kph\\': 22.4}}\"}, {\\'url\\': \\'https://www.weathertab.com/en/c/e/07/united-states/california/san-francisco/\\', \\'content\\': \\'Explore comprehensive July 2024 weather forecasts for San Francisco, including daily high and low temperatures, precipitation risks, and monthly temperature trends. Featuring detailed day-by-day forecasts, dynamic graphs of daily rain probabilities, and temperature trends to help you plan ahead. ... 30 65°F 54°F 18°C 12°C 11% 31 65°F 54°F ...\\'}]', name='tavily_search_results_json', id='38f8bc45-5f3e-4d0c-afad-4375db288eac', tool_call_id='call_x2fv2SuB7Ai5AwuMwJJvjSif'), AIMessage(content='The current weather in San Francisco is sunny with a temperature of 64.4°F (18.0°C). The wind is coming from the west-southwest at 11 mph (17.6 kph), and the humidity is at 79%. There is no precipitation reported.\\n\\nFor more details, you can check [WeatherAPI](https://www.weatherapi.com/) or [WeatherTab](https://www.weathertab.com/en/c/e/07/united-states/california/san-francisco/).', response_metadata={'token_usage': {'completion_tokens': 108, 'prompt_tokens': 697, 'total_tokens': 805}, 'model_name': 'gpt-4o-mini-2024-07-18', 'system_fingerprint': 'fp_0f03d4f0ee', 'finish_reason': 'stop', 'logprobs': None}, id='run-1b48d08e-79a0-4200-8a9f-bc4d3ca95f17-0', usage_metadata={'input_tokens': 697, 'output_tokens': 108, 'total_tokens': 805})]}, next=(), config={'configurable': {'thread_id': '1', 'thread_ts': '1ef4eb63-ef86-6a04-8003-ba503313baa6'}}, metadata={'source': 'loop', 'writes': {'llm': {'messages': [AIMessage(content='The current weather in San Francisco is sunny with a temperature of 64.4°F (18.0°C). The wind is coming from the west-southwest at 11 mph (17.6 kph), and the humidity is at 79%. There is no precipitation reported.\\n\\nFor more details, you can check [WeatherAPI](https://www.weatherapi.com/) or [WeatherTab](https://www.weathertab.com/en/c/e/07/united-states/california/san-francisco/).', response_metadata={'token_usage': {'completion_tokens': 108, 'prompt_tokens': 697, 'total_tokens': 805}, 'model_name': 'gpt-4o-mini-2024-07-18', 'system_fingerprint': 'fp_0f03d4f0ee', 'finish_reason': 'stop', 'logprobs': None}, id='run-1b48d08e-79a0-4200-8a9f-bc4d3ca95f17-0', usage_metadata={'input_tokens': 697, 'output_tokens': 108, 'total_tokens': 805})]}}, 'step': 3}, created_at='2024-07-30T20:56:51.925634+00:00', parent_config={'configurable': {'thread_id': '1', 'thread_ts': '1ef4eb63-d969-6334-8002-f299884ad52d'}})"
      ]
     },
     "execution_count": 11,
     "metadata": {},
     "output_type": "execute_result"
    }
   ],
   "execution_count": 11
  },
  {
   "metadata": {
    "ExecuteTime": {
     "end_time": "2024-07-30T20:58:06.222193Z",
     "start_time": "2024-07-30T20:58:06.217033Z"
    }
   },
   "cell_type": "code",
   "source": "abot.graph.get_state(thread).next",
   "id": "870bef1f225c1b4",
   "outputs": [
    {
     "data": {
      "text/plain": [
       "()"
      ]
     },
     "execution_count": 12,
     "metadata": {},
     "output_type": "execute_result"
    }
   ],
   "execution_count": 12
  },
  {
   "metadata": {},
   "cell_type": "code",
   "outputs": [],
   "execution_count": null,
   "source": "",
   "id": "1a209a4987b3e1d1"
  }
 ],
 "metadata": {
  "kernelspec": {
   "display_name": "Python 3",
   "language": "python",
   "name": "python3"
  },
  "language_info": {
   "codemirror_mode": {
    "name": "ipython",
    "version": 2
   },
   "file_extension": ".py",
   "mimetype": "text/x-python",
   "name": "python",
   "nbconvert_exporter": "python",
   "pygments_lexer": "ipython2",
   "version": "2.7.6"
  }
 },
 "nbformat": 4,
 "nbformat_minor": 5
}
